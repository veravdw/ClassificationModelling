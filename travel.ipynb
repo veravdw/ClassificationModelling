{
  "cells": [
    {
      "cell_type": "markdown",
      "metadata": {
        "id": "IKgYPQcPdTDG"
      },
      "source": [
        "#Travel Insurance predictive analysis\n",
        "\n",
        "The goal of this analysis is to find out whether we can predict which consumers will take a travel insurance, based on several geographic and behavioural characteristics of current travel insurance holders and non-holders.\n",
        "\n",
        "The amount of features to base predictions on in this dataset is fairly small, just 8. Therefore, our dataset is likely not covering the full amount of features that influence their decision whether to take an insurance. Data used for this project can be found [here](https://www.kaggle.com/datasets/tejashvi14/travel-insurance-prediction-data)"
      ]
    },
    {
      "cell_type": "code",
      "source": [
        "pip install eli5"
      ],
      "metadata": {
        "colab": {
          "base_uri": "https://localhost:8080/"
        },
        "id": "VtnB8FJXm40a",
        "outputId": "1f748d80-7be9-4dbd-e6ed-7fc24a10f225"
      },
      "execution_count": null,
      "outputs": [
        {
          "output_type": "stream",
          "name": "stdout",
          "text": [
            "Requirement already satisfied: eli5 in /usr/local/lib/python3.10/dist-packages (0.13.0)\n",
            "Requirement already satisfied: attrs>17.1.0 in /usr/local/lib/python3.10/dist-packages (from eli5) (23.2.0)\n",
            "Requirement already satisfied: jinja2>=3.0.0 in /usr/local/lib/python3.10/dist-packages (from eli5) (3.1.3)\n",
            "Requirement already satisfied: numpy>=1.9.0 in /usr/local/lib/python3.10/dist-packages (from eli5) (1.23.5)\n",
            "Requirement already satisfied: scipy in /usr/local/lib/python3.10/dist-packages (from eli5) (1.11.4)\n",
            "Requirement already satisfied: six in /usr/local/lib/python3.10/dist-packages (from eli5) (1.16.0)\n",
            "Requirement already satisfied: scikit-learn>=0.20 in /usr/local/lib/python3.10/dist-packages (from eli5) (1.2.2)\n",
            "Requirement already satisfied: graphviz in /usr/local/lib/python3.10/dist-packages (from eli5) (0.20.1)\n",
            "Requirement already satisfied: tabulate>=0.7.7 in /usr/local/lib/python3.10/dist-packages (from eli5) (0.9.0)\n",
            "Requirement already satisfied: MarkupSafe>=2.0 in /usr/local/lib/python3.10/dist-packages (from jinja2>=3.0.0->eli5) (2.1.4)\n",
            "Requirement already satisfied: joblib>=1.1.1 in /usr/local/lib/python3.10/dist-packages (from scikit-learn>=0.20->eli5) (1.3.2)\n",
            "Requirement already satisfied: threadpoolctl>=2.0.0 in /usr/local/lib/python3.10/dist-packages (from scikit-learn>=0.20->eli5) (3.2.0)\n"
          ]
        }
      ]
    },
    {
      "cell_type": "code",
      "execution_count": null,
      "metadata": {
        "id": "6aADkOJfI1-_"
      },
      "outputs": [],
      "source": [
        "import numpy as np\n",
        "import pandas as pd\n",
        "import matplotlib.pyplot as plt\n",
        "import seaborn as sns\n",
        "import warnings\n",
        "from scipy import stats\n",
        "import statsmodels.api as sm\n",
        "import statsmodels.formula.api as smf\n",
        "from statsmodels.stats.anova import anova_lm\n",
        "from statsmodels.stats.multicomp import pairwise_tukeyhsd\n",
        "from statsmodels.stats.outliers_influence import variance_inflation_factor, OLSInfluence\n",
        "from sklearn.preprocessing import StandardScaler\n",
        "from sklearn.linear_model import LinearRegression, LogisticRegression\n",
        "from sklearn.model_selection import train_test_split, cross_val_score, cross_validate, GridSearchCV, RandomizedSearchCV\n",
        "from sklearn.metrics import classification_report, confusion_matrix, precision_recall_fscore_support, roc_curve, roc_auc_score, accuracy_score, get_scorer_names\n",
        "from sklearn.pipeline import Pipeline\n",
        "from sklearn.preprocessing import OneHotEncoder, PolynomialFeatures\n",
        "from sklearn.compose import ColumnTransformer\n",
        "from sklearn.neighbors import KNeighborsClassifier\n",
        "from sklearn.svm import SVC, LinearSVC\n",
        "from sklearn.tree import DecisionTreeClassifier\n",
        "from sklearn.ensemble import RandomForestClassifier, RandomForestRegressor, VotingClassifier, BaggingClassifier\n",
        "import eli5\n",
        "from eli5.sklearn import PermutationImportance"
      ]
    },
    {
      "cell_type": "code",
      "execution_count": null,
      "metadata": {
        "id": "3rb6wl6fCnYK"
      },
      "outputs": [],
      "source": [
        "sns.set_style('white')\n",
        "sns.set_palette(\"ch:.25\")\n",
        "warnings.filterwarnings('ignore')"
      ]
    },
    {
      "cell_type": "code",
      "execution_count": null,
      "metadata": {
        "id": "nx8OyflaCezu"
      },
      "outputs": [],
      "source": [
        "pd.set_option('display.float_format', lambda x: '%.2f' % x)\n",
        "pd.options.display.float_format = '{:,.3f}'.format"
      ]
    },
    {
      "cell_type": "markdown",
      "metadata": {
        "id": "-HhfC1eVVRt-"
      },
      "source": [
        "# Part 1: Data exploration"
      ]
    },
    {
      "cell_type": "code",
      "execution_count": null,
      "metadata": {
        "colab": {
          "base_uri": "https://localhost:8080/"
        },
        "id": "KyZUu9-fJFWD",
        "outputId": "3f39f6cf-38c1-4816-e640-4bc1a51dc4b6"
      },
      "outputs": [
        {
          "output_type": "stream",
          "name": "stdout",
          "text": [
            "There are 1987 rows and 10 columns in this dataset.\n"
          ]
        }
      ],
      "source": [
        "travel = pd.read_csv(\"/content/drive/MyDrive/colab_data_sources/TravelInsurancePrediction.csv\")\n",
        "print('There are {} rows and {} columns in this dataset.' .format(travel.shape[0], travel.shape[1]))"
      ]
    },
    {
      "cell_type": "code",
      "execution_count": null,
      "metadata": {
        "colab": {
          "base_uri": "https://localhost:8080/",
          "height": 399
        },
        "id": "9O3QBPIIeVnM",
        "outputId": "d7b8741f-4c15-4866-cf35-ae7ace0f1b52"
      },
      "outputs": [
        {
          "output_type": "execute_result",
          "data": {
            "text/plain": [
              "   Unnamed: 0  Age               Employment Type GraduateOrNot  AnnualIncome  \\\n",
              "0           0   31             Government Sector           Yes        400000   \n",
              "1           1   31  Private Sector/Self Employed           Yes       1250000   \n",
              "2           2   34  Private Sector/Self Employed           Yes        500000   \n",
              "3           3   28  Private Sector/Self Employed           Yes        700000   \n",
              "4           4   28  Private Sector/Self Employed           Yes        700000   \n",
              "\n",
              "   FamilyMembers  ChronicDiseases FrequentFlyer EverTravelledAbroad  \\\n",
              "0              6                1            No                  No   \n",
              "1              7                0            No                  No   \n",
              "2              4                1            No                  No   \n",
              "3              3                1            No                  No   \n",
              "4              8                1           Yes                  No   \n",
              "\n",
              "   TravelInsurance  \n",
              "0                0  \n",
              "1                0  \n",
              "2                1  \n",
              "3                0  \n",
              "4                0  "
            ],
            "text/html": [
              "\n",
              "  <div id=\"df-1b69ae33-7c80-44d6-98c5-47d94804d5c2\" class=\"colab-df-container\">\n",
              "    <div>\n",
              "<style scoped>\n",
              "    .dataframe tbody tr th:only-of-type {\n",
              "        vertical-align: middle;\n",
              "    }\n",
              "\n",
              "    .dataframe tbody tr th {\n",
              "        vertical-align: top;\n",
              "    }\n",
              "\n",
              "    .dataframe thead th {\n",
              "        text-align: right;\n",
              "    }\n",
              "</style>\n",
              "<table border=\"1\" class=\"dataframe\">\n",
              "  <thead>\n",
              "    <tr style=\"text-align: right;\">\n",
              "      <th></th>\n",
              "      <th>Unnamed: 0</th>\n",
              "      <th>Age</th>\n",
              "      <th>Employment Type</th>\n",
              "      <th>GraduateOrNot</th>\n",
              "      <th>AnnualIncome</th>\n",
              "      <th>FamilyMembers</th>\n",
              "      <th>ChronicDiseases</th>\n",
              "      <th>FrequentFlyer</th>\n",
              "      <th>EverTravelledAbroad</th>\n",
              "      <th>TravelInsurance</th>\n",
              "    </tr>\n",
              "  </thead>\n",
              "  <tbody>\n",
              "    <tr>\n",
              "      <th>0</th>\n",
              "      <td>0</td>\n",
              "      <td>31</td>\n",
              "      <td>Government Sector</td>\n",
              "      <td>Yes</td>\n",
              "      <td>400000</td>\n",
              "      <td>6</td>\n",
              "      <td>1</td>\n",
              "      <td>No</td>\n",
              "      <td>No</td>\n",
              "      <td>0</td>\n",
              "    </tr>\n",
              "    <tr>\n",
              "      <th>1</th>\n",
              "      <td>1</td>\n",
              "      <td>31</td>\n",
              "      <td>Private Sector/Self Employed</td>\n",
              "      <td>Yes</td>\n",
              "      <td>1250000</td>\n",
              "      <td>7</td>\n",
              "      <td>0</td>\n",
              "      <td>No</td>\n",
              "      <td>No</td>\n",
              "      <td>0</td>\n",
              "    </tr>\n",
              "    <tr>\n",
              "      <th>2</th>\n",
              "      <td>2</td>\n",
              "      <td>34</td>\n",
              "      <td>Private Sector/Self Employed</td>\n",
              "      <td>Yes</td>\n",
              "      <td>500000</td>\n",
              "      <td>4</td>\n",
              "      <td>1</td>\n",
              "      <td>No</td>\n",
              "      <td>No</td>\n",
              "      <td>1</td>\n",
              "    </tr>\n",
              "    <tr>\n",
              "      <th>3</th>\n",
              "      <td>3</td>\n",
              "      <td>28</td>\n",
              "      <td>Private Sector/Self Employed</td>\n",
              "      <td>Yes</td>\n",
              "      <td>700000</td>\n",
              "      <td>3</td>\n",
              "      <td>1</td>\n",
              "      <td>No</td>\n",
              "      <td>No</td>\n",
              "      <td>0</td>\n",
              "    </tr>\n",
              "    <tr>\n",
              "      <th>4</th>\n",
              "      <td>4</td>\n",
              "      <td>28</td>\n",
              "      <td>Private Sector/Self Employed</td>\n",
              "      <td>Yes</td>\n",
              "      <td>700000</td>\n",
              "      <td>8</td>\n",
              "      <td>1</td>\n",
              "      <td>Yes</td>\n",
              "      <td>No</td>\n",
              "      <td>0</td>\n",
              "    </tr>\n",
              "  </tbody>\n",
              "</table>\n",
              "</div>\n",
              "    <div class=\"colab-df-buttons\">\n",
              "\n",
              "  <div class=\"colab-df-container\">\n",
              "    <button class=\"colab-df-convert\" onclick=\"convertToInteractive('df-1b69ae33-7c80-44d6-98c5-47d94804d5c2')\"\n",
              "            title=\"Convert this dataframe to an interactive table.\"\n",
              "            style=\"display:none;\">\n",
              "\n",
              "  <svg xmlns=\"http://www.w3.org/2000/svg\" height=\"24px\" viewBox=\"0 -960 960 960\">\n",
              "    <path d=\"M120-120v-720h720v720H120Zm60-500h600v-160H180v160Zm220 220h160v-160H400v160Zm0 220h160v-160H400v160ZM180-400h160v-160H180v160Zm440 0h160v-160H620v160ZM180-180h160v-160H180v160Zm440 0h160v-160H620v160Z\"/>\n",
              "  </svg>\n",
              "    </button>\n",
              "\n",
              "  <style>\n",
              "    .colab-df-container {\n",
              "      display:flex;\n",
              "      gap: 12px;\n",
              "    }\n",
              "\n",
              "    .colab-df-convert {\n",
              "      background-color: #E8F0FE;\n",
              "      border: none;\n",
              "      border-radius: 50%;\n",
              "      cursor: pointer;\n",
              "      display: none;\n",
              "      fill: #1967D2;\n",
              "      height: 32px;\n",
              "      padding: 0 0 0 0;\n",
              "      width: 32px;\n",
              "    }\n",
              "\n",
              "    .colab-df-convert:hover {\n",
              "      background-color: #E2EBFA;\n",
              "      box-shadow: 0px 1px 2px rgba(60, 64, 67, 0.3), 0px 1px 3px 1px rgba(60, 64, 67, 0.15);\n",
              "      fill: #174EA6;\n",
              "    }\n",
              "\n",
              "    .colab-df-buttons div {\n",
              "      margin-bottom: 4px;\n",
              "    }\n",
              "\n",
              "    [theme=dark] .colab-df-convert {\n",
              "      background-color: #3B4455;\n",
              "      fill: #D2E3FC;\n",
              "    }\n",
              "\n",
              "    [theme=dark] .colab-df-convert:hover {\n",
              "      background-color: #434B5C;\n",
              "      box-shadow: 0px 1px 3px 1px rgba(0, 0, 0, 0.15);\n",
              "      filter: drop-shadow(0px 1px 2px rgba(0, 0, 0, 0.3));\n",
              "      fill: #FFFFFF;\n",
              "    }\n",
              "  </style>\n",
              "\n",
              "    <script>\n",
              "      const buttonEl =\n",
              "        document.querySelector('#df-1b69ae33-7c80-44d6-98c5-47d94804d5c2 button.colab-df-convert');\n",
              "      buttonEl.style.display =\n",
              "        google.colab.kernel.accessAllowed ? 'block' : 'none';\n",
              "\n",
              "      async function convertToInteractive(key) {\n",
              "        const element = document.querySelector('#df-1b69ae33-7c80-44d6-98c5-47d94804d5c2');\n",
              "        const dataTable =\n",
              "          await google.colab.kernel.invokeFunction('convertToInteractive',\n",
              "                                                    [key], {});\n",
              "        if (!dataTable) return;\n",
              "\n",
              "        const docLinkHtml = 'Like what you see? Visit the ' +\n",
              "          '<a target=\"_blank\" href=https://colab.research.google.com/notebooks/data_table.ipynb>data table notebook</a>'\n",
              "          + ' to learn more about interactive tables.';\n",
              "        element.innerHTML = '';\n",
              "        dataTable['output_type'] = 'display_data';\n",
              "        await google.colab.output.renderOutput(dataTable, element);\n",
              "        const docLink = document.createElement('div');\n",
              "        docLink.innerHTML = docLinkHtml;\n",
              "        element.appendChild(docLink);\n",
              "      }\n",
              "    </script>\n",
              "  </div>\n",
              "\n",
              "\n",
              "<div id=\"df-889b45e0-5f4e-4076-9402-b0d63119906b\">\n",
              "  <button class=\"colab-df-quickchart\" onclick=\"quickchart('df-889b45e0-5f4e-4076-9402-b0d63119906b')\"\n",
              "            title=\"Suggest charts\"\n",
              "            style=\"display:none;\">\n",
              "\n",
              "<svg xmlns=\"http://www.w3.org/2000/svg\" height=\"24px\"viewBox=\"0 0 24 24\"\n",
              "     width=\"24px\">\n",
              "    <g>\n",
              "        <path d=\"M19 3H5c-1.1 0-2 .9-2 2v14c0 1.1.9 2 2 2h14c1.1 0 2-.9 2-2V5c0-1.1-.9-2-2-2zM9 17H7v-7h2v7zm4 0h-2V7h2v10zm4 0h-2v-4h2v4z\"/>\n",
              "    </g>\n",
              "</svg>\n",
              "  </button>\n",
              "\n",
              "<style>\n",
              "  .colab-df-quickchart {\n",
              "      --bg-color: #E8F0FE;\n",
              "      --fill-color: #1967D2;\n",
              "      --hover-bg-color: #E2EBFA;\n",
              "      --hover-fill-color: #174EA6;\n",
              "      --disabled-fill-color: #AAA;\n",
              "      --disabled-bg-color: #DDD;\n",
              "  }\n",
              "\n",
              "  [theme=dark] .colab-df-quickchart {\n",
              "      --bg-color: #3B4455;\n",
              "      --fill-color: #D2E3FC;\n",
              "      --hover-bg-color: #434B5C;\n",
              "      --hover-fill-color: #FFFFFF;\n",
              "      --disabled-bg-color: #3B4455;\n",
              "      --disabled-fill-color: #666;\n",
              "  }\n",
              "\n",
              "  .colab-df-quickchart {\n",
              "    background-color: var(--bg-color);\n",
              "    border: none;\n",
              "    border-radius: 50%;\n",
              "    cursor: pointer;\n",
              "    display: none;\n",
              "    fill: var(--fill-color);\n",
              "    height: 32px;\n",
              "    padding: 0;\n",
              "    width: 32px;\n",
              "  }\n",
              "\n",
              "  .colab-df-quickchart:hover {\n",
              "    background-color: var(--hover-bg-color);\n",
              "    box-shadow: 0 1px 2px rgba(60, 64, 67, 0.3), 0 1px 3px 1px rgba(60, 64, 67, 0.15);\n",
              "    fill: var(--button-hover-fill-color);\n",
              "  }\n",
              "\n",
              "  .colab-df-quickchart-complete:disabled,\n",
              "  .colab-df-quickchart-complete:disabled:hover {\n",
              "    background-color: var(--disabled-bg-color);\n",
              "    fill: var(--disabled-fill-color);\n",
              "    box-shadow: none;\n",
              "  }\n",
              "\n",
              "  .colab-df-spinner {\n",
              "    border: 2px solid var(--fill-color);\n",
              "    border-color: transparent;\n",
              "    border-bottom-color: var(--fill-color);\n",
              "    animation:\n",
              "      spin 1s steps(1) infinite;\n",
              "  }\n",
              "\n",
              "  @keyframes spin {\n",
              "    0% {\n",
              "      border-color: transparent;\n",
              "      border-bottom-color: var(--fill-color);\n",
              "      border-left-color: var(--fill-color);\n",
              "    }\n",
              "    20% {\n",
              "      border-color: transparent;\n",
              "      border-left-color: var(--fill-color);\n",
              "      border-top-color: var(--fill-color);\n",
              "    }\n",
              "    30% {\n",
              "      border-color: transparent;\n",
              "      border-left-color: var(--fill-color);\n",
              "      border-top-color: var(--fill-color);\n",
              "      border-right-color: var(--fill-color);\n",
              "    }\n",
              "    40% {\n",
              "      border-color: transparent;\n",
              "      border-right-color: var(--fill-color);\n",
              "      border-top-color: var(--fill-color);\n",
              "    }\n",
              "    60% {\n",
              "      border-color: transparent;\n",
              "      border-right-color: var(--fill-color);\n",
              "    }\n",
              "    80% {\n",
              "      border-color: transparent;\n",
              "      border-right-color: var(--fill-color);\n",
              "      border-bottom-color: var(--fill-color);\n",
              "    }\n",
              "    90% {\n",
              "      border-color: transparent;\n",
              "      border-bottom-color: var(--fill-color);\n",
              "    }\n",
              "  }\n",
              "</style>\n",
              "\n",
              "  <script>\n",
              "    async function quickchart(key) {\n",
              "      const quickchartButtonEl =\n",
              "        document.querySelector('#' + key + ' button');\n",
              "      quickchartButtonEl.disabled = true;  // To prevent multiple clicks.\n",
              "      quickchartButtonEl.classList.add('colab-df-spinner');\n",
              "      try {\n",
              "        const charts = await google.colab.kernel.invokeFunction(\n",
              "            'suggestCharts', [key], {});\n",
              "      } catch (error) {\n",
              "        console.error('Error during call to suggestCharts:', error);\n",
              "      }\n",
              "      quickchartButtonEl.classList.remove('colab-df-spinner');\n",
              "      quickchartButtonEl.classList.add('colab-df-quickchart-complete');\n",
              "    }\n",
              "    (() => {\n",
              "      let quickchartButtonEl =\n",
              "        document.querySelector('#df-889b45e0-5f4e-4076-9402-b0d63119906b button');\n",
              "      quickchartButtonEl.style.display =\n",
              "        google.colab.kernel.accessAllowed ? 'block' : 'none';\n",
              "    })();\n",
              "  </script>\n",
              "</div>\n",
              "    </div>\n",
              "  </div>\n"
            ]
          },
          "metadata": {},
          "execution_count": 147
        }
      ],
      "source": [
        "travel.head()"
      ]
    },
    {
      "cell_type": "code",
      "source": [
        "travel['Budget_per_familyMember'] = travel['AnnualIncome']/travel['FamilyMembers']"
      ],
      "metadata": {
        "id": "0RKbGqiXQmkO"
      },
      "execution_count": null,
      "outputs": []
    },
    {
      "cell_type": "code",
      "execution_count": null,
      "metadata": {
        "id": "dJ5ZOUv6elCr"
      },
      "outputs": [],
      "source": [
        "travel = travel.rename(columns={'Employment Type':'EmploymentType'})\n",
        "travel= travel.drop(columns=('Unnamed: 0'))"
      ]
    },
    {
      "cell_type": "code",
      "source": [
        "full_duplicates = travel.duplicated().sum()\n",
        "print('There are',full_duplicates, 'fully duplicated cases.')"
      ],
      "metadata": {
        "colab": {
          "base_uri": "https://localhost:8080/"
        },
        "id": "JJeEGNqulZHb",
        "outputId": "94c08683-32e7-4e3d-8579-2b4864477876"
      },
      "execution_count": null,
      "outputs": [
        {
          "output_type": "stream",
          "name": "stdout",
          "text": [
            "There are 738 fully duplicated cases.\n"
          ]
        }
      ]
    },
    {
      "cell_type": "code",
      "source": [
        "travel = travel.drop_duplicates(keep='first')"
      ],
      "metadata": {
        "id": "2DWgPF_0ltPS"
      },
      "execution_count": null,
      "outputs": []
    },
    {
      "cell_type": "code",
      "source": [
        "travel['id'] = range(1, len(travel) + 1)"
      ],
      "metadata": {
        "id": "m6UqEVGUoEeD"
      },
      "execution_count": null,
      "outputs": []
    },
    {
      "cell_type": "code",
      "execution_count": null,
      "metadata": {
        "colab": {
          "base_uri": "https://localhost:8080/"
        },
        "id": "ejozJ3Ulehj8",
        "outputId": "6fd2dc75-2797-478d-dd66-a0f34306fe6a"
      },
      "outputs": [
        {
          "output_type": "stream",
          "name": "stdout",
          "text": [
            "<class 'pandas.core.frame.DataFrame'>\n",
            "Int64Index: 1249 entries, 0 to 1985\n",
            "Data columns (total 11 columns):\n",
            " #   Column                   Non-Null Count  Dtype  \n",
            "---  ------                   --------------  -----  \n",
            " 0   Age                      1249 non-null   int64  \n",
            " 1   EmploymentType           1249 non-null   object \n",
            " 2   GraduateOrNot            1249 non-null   object \n",
            " 3   AnnualIncome             1249 non-null   int64  \n",
            " 4   FamilyMembers            1249 non-null   int64  \n",
            " 5   ChronicDiseases          1249 non-null   int64  \n",
            " 6   FrequentFlyer            1249 non-null   object \n",
            " 7   EverTravelledAbroad      1249 non-null   object \n",
            " 8   TravelInsurance          1249 non-null   int64  \n",
            " 9   Budget_per_familyMember  1249 non-null   float64\n",
            " 10  id                       1249 non-null   int64  \n",
            "dtypes: float64(1), int64(6), object(4)\n",
            "memory usage: 117.1+ KB\n"
          ]
        }
      ],
      "source": [
        "travel.info()"
      ]
    },
    {
      "cell_type": "markdown",
      "metadata": {
        "id": "yPh_VBMuDhZn"
      },
      "source": [
        "We have almost 2000 cases, no missing values and quite a few objects features, below we check out the categories of each.\n",
        "\n"
      ]
    },
    {
      "cell_type": "code",
      "execution_count": null,
      "metadata": {
        "colab": {
          "base_uri": "https://localhost:8080/"
        },
        "id": "OwjvgCKGftZz",
        "outputId": "ce3b6eed-af37-4051-b399-70448f043cd9"
      },
      "outputs": [
        {
          "output_type": "stream",
          "name": "stdout",
          "text": [
            "EmploymentType: ['Government Sector' 'Private Sector/Self Employed']\n",
            "GraduateOrNot: ['Yes' 'No']\n",
            "FrequentFlyer: ['No' 'Yes']\n",
            "EverTravelledAbroad: ['No' 'Yes']\n"
          ]
        }
      ],
      "source": [
        "for col in travel.columns:\n",
        "    if travel[col].dtype == 'object':\n",
        "        print(f\"{col}: {travel[col].unique()}\")"
      ]
    },
    {
      "cell_type": "markdown",
      "metadata": {
        "id": "rPWcIci8gE8F"
      },
      "source": [
        "It looks like all categorical features are binary, and three of them yes/no. The levels of GraduateOrNot are swiped compared to the other two yes/no features, we will modify this to be in line with the other features, and turn it into an integer.\n",
        "\n",
        "Below we check out ranges and descriptive statistics of continuous features."
      ]
    },
    {
      "cell_type": "markdown",
      "source": [
        "### Numerical features"
      ],
      "metadata": {
        "id": "GXcmquFKQgtG"
      }
    },
    {
      "cell_type": "code",
      "execution_count": null,
      "metadata": {
        "colab": {
          "base_uri": "https://localhost:8080/",
          "height": 300
        },
        "id": "AGKFcLR_fbgc",
        "outputId": "aede1999-a2da-4dff-b528-20053dbd21db"
      },
      "outputs": [
        {
          "output_type": "execute_result",
          "data": {
            "text/plain": [
              "            Age  AnnualIncome  FamilyMembers  ChronicDiseases  \\\n",
              "count 1,249.000     1,249.000      1,249.000        1,249.000   \n",
              "mean     29.756   934,547.638          4.890            0.333   \n",
              "std       2.921   360,729.284          1.762            0.471   \n",
              "min      25.000   300,000.000          2.000            0.000   \n",
              "25%      28.000   600,000.000          4.000            0.000   \n",
              "50%      29.000   900,000.000          5.000            0.000   \n",
              "75%      32.000 1,200,000.000          6.000            1.000   \n",
              "max      35.000 1,800,000.000          9.000            1.000   \n",
              "\n",
              "       TravelInsurance  Budget_per_familyMember        id  \n",
              "count        1,249.000                1,249.000 1,249.000  \n",
              "mean             0.387              220,580.893   625.000  \n",
              "std              0.487              128,751.999   360.700  \n",
              "min              0.000               33,333.333     1.000  \n",
              "25%              0.000              128,571.429   313.000  \n",
              "50%              0.000              200,000.000   625.000  \n",
              "75%              1.000              275,000.000   937.000  \n",
              "max              1.000              875,000.000 1,249.000  "
            ],
            "text/html": [
              "\n",
              "  <div id=\"df-1ab40cd2-458f-45a1-bcdc-3af77f56c9c1\" class=\"colab-df-container\">\n",
              "    <div>\n",
              "<style scoped>\n",
              "    .dataframe tbody tr th:only-of-type {\n",
              "        vertical-align: middle;\n",
              "    }\n",
              "\n",
              "    .dataframe tbody tr th {\n",
              "        vertical-align: top;\n",
              "    }\n",
              "\n",
              "    .dataframe thead th {\n",
              "        text-align: right;\n",
              "    }\n",
              "</style>\n",
              "<table border=\"1\" class=\"dataframe\">\n",
              "  <thead>\n",
              "    <tr style=\"text-align: right;\">\n",
              "      <th></th>\n",
              "      <th>Age</th>\n",
              "      <th>AnnualIncome</th>\n",
              "      <th>FamilyMembers</th>\n",
              "      <th>ChronicDiseases</th>\n",
              "      <th>TravelInsurance</th>\n",
              "      <th>Budget_per_familyMember</th>\n",
              "      <th>id</th>\n",
              "    </tr>\n",
              "  </thead>\n",
              "  <tbody>\n",
              "    <tr>\n",
              "      <th>count</th>\n",
              "      <td>1,249.000</td>\n",
              "      <td>1,249.000</td>\n",
              "      <td>1,249.000</td>\n",
              "      <td>1,249.000</td>\n",
              "      <td>1,249.000</td>\n",
              "      <td>1,249.000</td>\n",
              "      <td>1,249.000</td>\n",
              "    </tr>\n",
              "    <tr>\n",
              "      <th>mean</th>\n",
              "      <td>29.756</td>\n",
              "      <td>934,547.638</td>\n",
              "      <td>4.890</td>\n",
              "      <td>0.333</td>\n",
              "      <td>0.387</td>\n",
              "      <td>220,580.893</td>\n",
              "      <td>625.000</td>\n",
              "    </tr>\n",
              "    <tr>\n",
              "      <th>std</th>\n",
              "      <td>2.921</td>\n",
              "      <td>360,729.284</td>\n",
              "      <td>1.762</td>\n",
              "      <td>0.471</td>\n",
              "      <td>0.487</td>\n",
              "      <td>128,751.999</td>\n",
              "      <td>360.700</td>\n",
              "    </tr>\n",
              "    <tr>\n",
              "      <th>min</th>\n",
              "      <td>25.000</td>\n",
              "      <td>300,000.000</td>\n",
              "      <td>2.000</td>\n",
              "      <td>0.000</td>\n",
              "      <td>0.000</td>\n",
              "      <td>33,333.333</td>\n",
              "      <td>1.000</td>\n",
              "    </tr>\n",
              "    <tr>\n",
              "      <th>25%</th>\n",
              "      <td>28.000</td>\n",
              "      <td>600,000.000</td>\n",
              "      <td>4.000</td>\n",
              "      <td>0.000</td>\n",
              "      <td>0.000</td>\n",
              "      <td>128,571.429</td>\n",
              "      <td>313.000</td>\n",
              "    </tr>\n",
              "    <tr>\n",
              "      <th>50%</th>\n",
              "      <td>29.000</td>\n",
              "      <td>900,000.000</td>\n",
              "      <td>5.000</td>\n",
              "      <td>0.000</td>\n",
              "      <td>0.000</td>\n",
              "      <td>200,000.000</td>\n",
              "      <td>625.000</td>\n",
              "    </tr>\n",
              "    <tr>\n",
              "      <th>75%</th>\n",
              "      <td>32.000</td>\n",
              "      <td>1,200,000.000</td>\n",
              "      <td>6.000</td>\n",
              "      <td>1.000</td>\n",
              "      <td>1.000</td>\n",
              "      <td>275,000.000</td>\n",
              "      <td>937.000</td>\n",
              "    </tr>\n",
              "    <tr>\n",
              "      <th>max</th>\n",
              "      <td>35.000</td>\n",
              "      <td>1,800,000.000</td>\n",
              "      <td>9.000</td>\n",
              "      <td>1.000</td>\n",
              "      <td>1.000</td>\n",
              "      <td>875,000.000</td>\n",
              "      <td>1,249.000</td>\n",
              "    </tr>\n",
              "  </tbody>\n",
              "</table>\n",
              "</div>\n",
              "    <div class=\"colab-df-buttons\">\n",
              "\n",
              "  <div class=\"colab-df-container\">\n",
              "    <button class=\"colab-df-convert\" onclick=\"convertToInteractive('df-1ab40cd2-458f-45a1-bcdc-3af77f56c9c1')\"\n",
              "            title=\"Convert this dataframe to an interactive table.\"\n",
              "            style=\"display:none;\">\n",
              "\n",
              "  <svg xmlns=\"http://www.w3.org/2000/svg\" height=\"24px\" viewBox=\"0 -960 960 960\">\n",
              "    <path d=\"M120-120v-720h720v720H120Zm60-500h600v-160H180v160Zm220 220h160v-160H400v160Zm0 220h160v-160H400v160ZM180-400h160v-160H180v160Zm440 0h160v-160H620v160ZM180-180h160v-160H180v160Zm440 0h160v-160H620v160Z\"/>\n",
              "  </svg>\n",
              "    </button>\n",
              "\n",
              "  <style>\n",
              "    .colab-df-container {\n",
              "      display:flex;\n",
              "      gap: 12px;\n",
              "    }\n",
              "\n",
              "    .colab-df-convert {\n",
              "      background-color: #E8F0FE;\n",
              "      border: none;\n",
              "      border-radius: 50%;\n",
              "      cursor: pointer;\n",
              "      display: none;\n",
              "      fill: #1967D2;\n",
              "      height: 32px;\n",
              "      padding: 0 0 0 0;\n",
              "      width: 32px;\n",
              "    }\n",
              "\n",
              "    .colab-df-convert:hover {\n",
              "      background-color: #E2EBFA;\n",
              "      box-shadow: 0px 1px 2px rgba(60, 64, 67, 0.3), 0px 1px 3px 1px rgba(60, 64, 67, 0.15);\n",
              "      fill: #174EA6;\n",
              "    }\n",
              "\n",
              "    .colab-df-buttons div {\n",
              "      margin-bottom: 4px;\n",
              "    }\n",
              "\n",
              "    [theme=dark] .colab-df-convert {\n",
              "      background-color: #3B4455;\n",
              "      fill: #D2E3FC;\n",
              "    }\n",
              "\n",
              "    [theme=dark] .colab-df-convert:hover {\n",
              "      background-color: #434B5C;\n",
              "      box-shadow: 0px 1px 3px 1px rgba(0, 0, 0, 0.15);\n",
              "      filter: drop-shadow(0px 1px 2px rgba(0, 0, 0, 0.3));\n",
              "      fill: #FFFFFF;\n",
              "    }\n",
              "  </style>\n",
              "\n",
              "    <script>\n",
              "      const buttonEl =\n",
              "        document.querySelector('#df-1ab40cd2-458f-45a1-bcdc-3af77f56c9c1 button.colab-df-convert');\n",
              "      buttonEl.style.display =\n",
              "        google.colab.kernel.accessAllowed ? 'block' : 'none';\n",
              "\n",
              "      async function convertToInteractive(key) {\n",
              "        const element = document.querySelector('#df-1ab40cd2-458f-45a1-bcdc-3af77f56c9c1');\n",
              "        const dataTable =\n",
              "          await google.colab.kernel.invokeFunction('convertToInteractive',\n",
              "                                                    [key], {});\n",
              "        if (!dataTable) return;\n",
              "\n",
              "        const docLinkHtml = 'Like what you see? Visit the ' +\n",
              "          '<a target=\"_blank\" href=https://colab.research.google.com/notebooks/data_table.ipynb>data table notebook</a>'\n",
              "          + ' to learn more about interactive tables.';\n",
              "        element.innerHTML = '';\n",
              "        dataTable['output_type'] = 'display_data';\n",
              "        await google.colab.output.renderOutput(dataTable, element);\n",
              "        const docLink = document.createElement('div');\n",
              "        docLink.innerHTML = docLinkHtml;\n",
              "        element.appendChild(docLink);\n",
              "      }\n",
              "    </script>\n",
              "  </div>\n",
              "\n",
              "\n",
              "<div id=\"df-d97922c5-ddef-4bdd-87b6-2fb2a493b43d\">\n",
              "  <button class=\"colab-df-quickchart\" onclick=\"quickchart('df-d97922c5-ddef-4bdd-87b6-2fb2a493b43d')\"\n",
              "            title=\"Suggest charts\"\n",
              "            style=\"display:none;\">\n",
              "\n",
              "<svg xmlns=\"http://www.w3.org/2000/svg\" height=\"24px\"viewBox=\"0 0 24 24\"\n",
              "     width=\"24px\">\n",
              "    <g>\n",
              "        <path d=\"M19 3H5c-1.1 0-2 .9-2 2v14c0 1.1.9 2 2 2h14c1.1 0 2-.9 2-2V5c0-1.1-.9-2-2-2zM9 17H7v-7h2v7zm4 0h-2V7h2v10zm4 0h-2v-4h2v4z\"/>\n",
              "    </g>\n",
              "</svg>\n",
              "  </button>\n",
              "\n",
              "<style>\n",
              "  .colab-df-quickchart {\n",
              "      --bg-color: #E8F0FE;\n",
              "      --fill-color: #1967D2;\n",
              "      --hover-bg-color: #E2EBFA;\n",
              "      --hover-fill-color: #174EA6;\n",
              "      --disabled-fill-color: #AAA;\n",
              "      --disabled-bg-color: #DDD;\n",
              "  }\n",
              "\n",
              "  [theme=dark] .colab-df-quickchart {\n",
              "      --bg-color: #3B4455;\n",
              "      --fill-color: #D2E3FC;\n",
              "      --hover-bg-color: #434B5C;\n",
              "      --hover-fill-color: #FFFFFF;\n",
              "      --disabled-bg-color: #3B4455;\n",
              "      --disabled-fill-color: #666;\n",
              "  }\n",
              "\n",
              "  .colab-df-quickchart {\n",
              "    background-color: var(--bg-color);\n",
              "    border: none;\n",
              "    border-radius: 50%;\n",
              "    cursor: pointer;\n",
              "    display: none;\n",
              "    fill: var(--fill-color);\n",
              "    height: 32px;\n",
              "    padding: 0;\n",
              "    width: 32px;\n",
              "  }\n",
              "\n",
              "  .colab-df-quickchart:hover {\n",
              "    background-color: var(--hover-bg-color);\n",
              "    box-shadow: 0 1px 2px rgba(60, 64, 67, 0.3), 0 1px 3px 1px rgba(60, 64, 67, 0.15);\n",
              "    fill: var(--button-hover-fill-color);\n",
              "  }\n",
              "\n",
              "  .colab-df-quickchart-complete:disabled,\n",
              "  .colab-df-quickchart-complete:disabled:hover {\n",
              "    background-color: var(--disabled-bg-color);\n",
              "    fill: var(--disabled-fill-color);\n",
              "    box-shadow: none;\n",
              "  }\n",
              "\n",
              "  .colab-df-spinner {\n",
              "    border: 2px solid var(--fill-color);\n",
              "    border-color: transparent;\n",
              "    border-bottom-color: var(--fill-color);\n",
              "    animation:\n",
              "      spin 1s steps(1) infinite;\n",
              "  }\n",
              "\n",
              "  @keyframes spin {\n",
              "    0% {\n",
              "      border-color: transparent;\n",
              "      border-bottom-color: var(--fill-color);\n",
              "      border-left-color: var(--fill-color);\n",
              "    }\n",
              "    20% {\n",
              "      border-color: transparent;\n",
              "      border-left-color: var(--fill-color);\n",
              "      border-top-color: var(--fill-color);\n",
              "    }\n",
              "    30% {\n",
              "      border-color: transparent;\n",
              "      border-left-color: var(--fill-color);\n",
              "      border-top-color: var(--fill-color);\n",
              "      border-right-color: var(--fill-color);\n",
              "    }\n",
              "    40% {\n",
              "      border-color: transparent;\n",
              "      border-right-color: var(--fill-color);\n",
              "      border-top-color: var(--fill-color);\n",
              "    }\n",
              "    60% {\n",
              "      border-color: transparent;\n",
              "      border-right-color: var(--fill-color);\n",
              "    }\n",
              "    80% {\n",
              "      border-color: transparent;\n",
              "      border-right-color: var(--fill-color);\n",
              "      border-bottom-color: var(--fill-color);\n",
              "    }\n",
              "    90% {\n",
              "      border-color: transparent;\n",
              "      border-bottom-color: var(--fill-color);\n",
              "    }\n",
              "  }\n",
              "</style>\n",
              "\n",
              "  <script>\n",
              "    async function quickchart(key) {\n",
              "      const quickchartButtonEl =\n",
              "        document.querySelector('#' + key + ' button');\n",
              "      quickchartButtonEl.disabled = true;  // To prevent multiple clicks.\n",
              "      quickchartButtonEl.classList.add('colab-df-spinner');\n",
              "      try {\n",
              "        const charts = await google.colab.kernel.invokeFunction(\n",
              "            'suggestCharts', [key], {});\n",
              "      } catch (error) {\n",
              "        console.error('Error during call to suggestCharts:', error);\n",
              "      }\n",
              "      quickchartButtonEl.classList.remove('colab-df-spinner');\n",
              "      quickchartButtonEl.classList.add('colab-df-quickchart-complete');\n",
              "    }\n",
              "    (() => {\n",
              "      let quickchartButtonEl =\n",
              "        document.querySelector('#df-d97922c5-ddef-4bdd-87b6-2fb2a493b43d button');\n",
              "      quickchartButtonEl.style.display =\n",
              "        google.colab.kernel.accessAllowed ? 'block' : 'none';\n",
              "    })();\n",
              "  </script>\n",
              "</div>\n",
              "    </div>\n",
              "  </div>\n"
            ]
          },
          "metadata": {},
          "execution_count": 154
        }
      ],
      "source": [
        "travel.describe()"
      ]
    },
    {
      "cell_type": "markdown",
      "metadata": {
        "id": "yGR5LRukgMhn"
      },
      "source": [
        "* Looking at the TravelInsurance feature first, we can see from the mean that 35% of cases in our dataset has a travel insurance, and 65% don't. Thus this is slightly unbalanced.\n",
        "* ChronicDiseases and TravelInsurance turn out to be binary features too, looking at the range of 0-1, we will assume that 0 and 1 respectively mean no and yes.\n",
        "* The amount of family members per case is varying between 2-9, with 5 (4.8) on average.\n",
        "* Annual income varies from 300k to 1.8M, with the median and average both almost a million in an unknown valuta.\n",
        "* Age ranges from 25 to 35, with an average and median of 29. We wonder whether this feature is normally distributed.\n",
        "* It seems 28% of cases on our sample has a chronic disease, we might wonder whether these people are more likely to take a travel insurance."
      ]
    },
    {
      "cell_type": "code",
      "source": [
        "mapping = {0: 'No', 1: 'Yes'}\n",
        "travel['ChronicDiseases'] = travel['ChronicDiseases'].map(mapping).sort_values()"
      ],
      "metadata": {
        "id": "ZlGAwc3-RTIZ"
      },
      "execution_count": null,
      "outputs": []
    },
    {
      "cell_type": "code",
      "source": [
        "variables_to_plot = ['AnnualIncome', 'Age', 'FamilyMembers', 'Budget_per_familyMember']\n",
        "num_subplots = len(variables_to_plot)\n",
        "\n",
        "plt.figure(figsize=(15, 4))\n",
        "\n",
        "for i, variable in enumerate(variables_to_plot, start=1):\n",
        "    plt.subplot(1, num_subplots, i)\n",
        "    sns.histplot(x=travel[variable])\n",
        "    plt.title(f'{variable} Distribution')\n",
        "\n",
        "plt.tight_layout()\n",
        "plt.show();"
      ],
      "metadata": {
        "colab": {
          "base_uri": "https://localhost:8080/",
          "height": 307
        },
        "id": "Q0f8dJf_psVf",
        "outputId": "79173dcd-7350-44d1-ebf5-30adfeb154c1"
      },
      "execution_count": null,
      "outputs": [
        {
          "output_type": "display_data",
          "data": {
            "text/plain": [
              "<Figure size 1500x400 with 4 Axes>"
            ],
            "image/png": "[encoded data removed]"
          },
          "metadata": {}
        }
      ]
    },
    {
      "cell_type": "markdown",
      "metadata": {
        "id": "GR_bHUgvRmfh"
      },
      "source": [
        "* The annual income distribution does not seem to follow a normal distribution, perhaps a polynomial.\n",
        "* For age, it is also hard to detect a pattern. Clearly 28 is the mode and 34 year olds are second most represented. The median and max ages of 30 and 35 respectivly are least common.\n",
        "* The familymembers feature is the only that looks normally distributed, with 4 familymembers as the mode. With the median of 5, and the highest values of 8 and 9 least common, the distribution is slightly right-skewed.\n",
        "\n",
        "Next, we will compare the spread of cases that do have an insurance with cases that don't. We need to keep in mind here that the group sizes differ, there are less insurance holders than non-holders."
      ]
    },
    {
      "cell_type": "code",
      "source": [
        "travel['Insurance'] = travel['TravelInsurance'].map({0: 'No', 1: 'Yes'})\n",
        "num_subplots = len(variables_to_plot)\n",
        "\n",
        "plt.figure(figsize=(15, 4))\n",
        "\n",
        "for i, variable in enumerate(variables_to_plot, start=1):\n",
        "    plt.subplot(1, num_subplots, i)\n",
        "    sns.boxplot(x=travel.Insurance, y=travel[variable])\n",
        "    plt.title(f'{variable} Distribution')\n",
        "\n",
        "plt.tight_layout()\n",
        "plt.show();"
      ],
      "metadata": {
        "colab": {
          "base_uri": "https://localhost:8080/",
          "height": 293
        },
        "id": "s8H40Z-HSFsw",
        "outputId": "1cd1e050-261a-4c60-d980-350d4157df0b"
      },
      "execution_count": null,
      "outputs": [
        {
          "output_type": "display_data",
          "data": {
            "text/plain": [
              "<Figure size 1500x400 with 4 Axes>"
            ],
            "image/png": "[encoded data removed]"
          },
          "metadata": {}
        }
      ]
    },
    {
      "cell_type": "markdown",
      "metadata": {
        "id": "_ftPKoUuWjg-"
      },
      "source": [
        "* While for travel insurance holders and non-holders the income range is similar, insurance holders clearly have a higher median income, with iqr in a higher range than non-holders. Thus, we could hypothesize that income impacts the decision to take travel insurance.\n",
        "* The median age of people without insurance is slightly lower than for people with insurance. The age distribution for insurance holders is more spread with the median of 30 being exactly the middle of the range.\n",
        "* The amount of family members is similarly spread for both insurance holders and non-holders. Thus, this feature is expected to have much predictive value.\n",
        "\n",
        "Next we will look at distributions per feature level, to see if we can find any patterns or anomalies."
      ]
    },
    {
      "cell_type": "code",
      "execution_count": null,
      "metadata": {
        "colab": {
          "base_uri": "https://localhost:8080/",
          "height": 143
        },
        "id": "urRZTUhQHjGK",
        "outputId": "6c5d6477-5cdc-4108-cdd6-543a7b77aa3e"
      },
      "outputs": [
        {
          "output_type": "execute_result",
          "data": {
            "text/plain": [
              "<pandas.io.formats.style.Styler at 0x791e6c7e83d0>"
            ],
            "text/html": [
              "<style type=\"text/css\">\n",
              "#T_8bd99_row0_col0, #T_8bd99_row0_col8, #T_8bd99_row0_col10, #T_8bd99_row1_col1, #T_8bd99_row1_col2, #T_8bd99_row1_col3, #T_8bd99_row1_col4, #T_8bd99_row1_col5, #T_8bd99_row1_col6, #T_8bd99_row1_col7, #T_8bd99_row1_col9 {\n",
              "  background-color: #00224e;\n",
              "  color: #f1f1f1;\n",
              "}\n",
              "#T_8bd99_row0_col1, #T_8bd99_row0_col2, #T_8bd99_row0_col3, #T_8bd99_row0_col4, #T_8bd99_row0_col5, #T_8bd99_row0_col6, #T_8bd99_row0_col7, #T_8bd99_row0_col9, #T_8bd99_row1_col0, #T_8bd99_row1_col8, #T_8bd99_row1_col10 {\n",
              "  background-color: #fee838;\n",
              "  color: #000000;\n",
              "}\n",
              "</style>\n",
              "<table id=\"T_8bd99\" class=\"dataframe\">\n",
              "  <thead>\n",
              "    <tr>\n",
              "      <th class=\"index_name level0\" >Age</th>\n",
              "      <th id=\"T_8bd99_level0_col0\" class=\"col_heading level0 col0\" >25</th>\n",
              "      <th id=\"T_8bd99_level0_col1\" class=\"col_heading level0 col1\" >26</th>\n",
              "      <th id=\"T_8bd99_level0_col2\" class=\"col_heading level0 col2\" >27</th>\n",
              "      <th id=\"T_8bd99_level0_col3\" class=\"col_heading level0 col3\" >28</th>\n",
              "      <th id=\"T_8bd99_level0_col4\" class=\"col_heading level0 col4\" >29</th>\n",
              "      <th id=\"T_8bd99_level0_col5\" class=\"col_heading level0 col5\" >30</th>\n",
              "      <th id=\"T_8bd99_level0_col6\" class=\"col_heading level0 col6\" >31</th>\n",
              "      <th id=\"T_8bd99_level0_col7\" class=\"col_heading level0 col7\" >32</th>\n",
              "      <th id=\"T_8bd99_level0_col8\" class=\"col_heading level0 col8\" >33</th>\n",
              "      <th id=\"T_8bd99_level0_col9\" class=\"col_heading level0 col9\" >34</th>\n",
              "      <th id=\"T_8bd99_level0_col10\" class=\"col_heading level0 col10\" >35</th>\n",
              "    </tr>\n",
              "    <tr>\n",
              "      <th class=\"index_name level0\" >TravelInsurance</th>\n",
              "      <th class=\"blank col0\" >&nbsp;</th>\n",
              "      <th class=\"blank col1\" >&nbsp;</th>\n",
              "      <th class=\"blank col2\" >&nbsp;</th>\n",
              "      <th class=\"blank col3\" >&nbsp;</th>\n",
              "      <th class=\"blank col4\" >&nbsp;</th>\n",
              "      <th class=\"blank col5\" >&nbsp;</th>\n",
              "      <th class=\"blank col6\" >&nbsp;</th>\n",
              "      <th class=\"blank col7\" >&nbsp;</th>\n",
              "      <th class=\"blank col8\" >&nbsp;</th>\n",
              "      <th class=\"blank col9\" >&nbsp;</th>\n",
              "      <th class=\"blank col10\" >&nbsp;</th>\n",
              "    </tr>\n",
              "  </thead>\n",
              "  <tbody>\n",
              "    <tr>\n",
              "      <th id=\"T_8bd99_level0_row0\" class=\"row_heading level0 row0\" >0</th>\n",
              "      <td id=\"T_8bd99_row0_col0\" class=\"data row0 col0\" >41%</td>\n",
              "      <td id=\"T_8bd99_row0_col1\" class=\"data row0 col1\" >58%</td>\n",
              "      <td id=\"T_8bd99_row0_col2\" class=\"data row0 col2\" >75%</td>\n",
              "      <td id=\"T_8bd99_row0_col3\" class=\"data row0 col3\" >71%</td>\n",
              "      <td id=\"T_8bd99_row0_col4\" class=\"data row0 col4\" >66%</td>\n",
              "      <td id=\"T_8bd99_row0_col5\" class=\"data row0 col5\" >60%</td>\n",
              "      <td id=\"T_8bd99_row0_col6\" class=\"data row0 col6\" >66%</td>\n",
              "      <td id=\"T_8bd99_row0_col7\" class=\"data row0 col7\" >72%</td>\n",
              "      <td id=\"T_8bd99_row0_col8\" class=\"data row0 col8\" >49%</td>\n",
              "      <td id=\"T_8bd99_row0_col9\" class=\"data row0 col9\" >51%</td>\n",
              "      <td id=\"T_8bd99_row0_col10\" class=\"data row0 col10\" >45%</td>\n",
              "    </tr>\n",
              "    <tr>\n",
              "      <th id=\"T_8bd99_level0_row1\" class=\"row_heading level0 row1\" >1</th>\n",
              "      <td id=\"T_8bd99_row1_col0\" class=\"data row1 col0\" >59%</td>\n",
              "      <td id=\"T_8bd99_row1_col1\" class=\"data row1 col1\" >42%</td>\n",
              "      <td id=\"T_8bd99_row1_col2\" class=\"data row1 col2\" >25%</td>\n",
              "      <td id=\"T_8bd99_row1_col3\" class=\"data row1 col3\" >29%</td>\n",
              "      <td id=\"T_8bd99_row1_col4\" class=\"data row1 col4\" >34%</td>\n",
              "      <td id=\"T_8bd99_row1_col5\" class=\"data row1 col5\" >40%</td>\n",
              "      <td id=\"T_8bd99_row1_col6\" class=\"data row1 col6\" >34%</td>\n",
              "      <td id=\"T_8bd99_row1_col7\" class=\"data row1 col7\" >28%</td>\n",
              "      <td id=\"T_8bd99_row1_col8\" class=\"data row1 col8\" >51%</td>\n",
              "      <td id=\"T_8bd99_row1_col9\" class=\"data row1 col9\" >49%</td>\n",
              "      <td id=\"T_8bd99_row1_col10\" class=\"data row1 col10\" >55%</td>\n",
              "    </tr>\n",
              "  </tbody>\n",
              "</table>\n"
            ]
          },
          "metadata": {},
          "execution_count": 163
        }
      ],
      "source": [
        "table = pd.crosstab(travel['TravelInsurance'], travel['Age'], normalize='columns').style.background_gradient(cmap='cividis')\n",
        "age_table = table.format({col: \"{:.0%}\" for col in table.columns})\n",
        "age_table"
      ]
    },
    {
      "cell_type": "markdown",
      "metadata": {
        "id": "Lx7-BJ0xYukL"
      },
      "source": [
        "Taking a closer look at age, we notice the following:\n",
        "* Only age 25, 33 and 35 see a higher amount people that do have travel insurance than don't.\n",
        "* The largest proportions of people without insurance are aged 27, 28 and 32.\n",
        "In conclusion, no clear pattern can be detected based on age. We have to make a note though that the age range in this dataset is very narrow, over the entire population this could even be a cluster."
      ]
    },
    {
      "cell_type": "code",
      "execution_count": null,
      "metadata": {
        "colab": {
          "base_uri": "https://localhost:8080/",
          "height": 143
        },
        "id": "rr15SJIC8KMs",
        "outputId": "c4bf5b89-7a7e-4385-9aa5-7c8188078ea6"
      },
      "outputs": [
        {
          "output_type": "execute_result",
          "data": {
            "text/plain": [
              "<pandas.io.formats.style.Styler at 0x791e6ca171c0>"
            ],
            "text/html": [
              "<style type=\"text/css\">\n",
              "#T_18a4f_row0_col0, #T_18a4f_row0_col1, #T_18a4f_row0_col2, #T_18a4f_row0_col3, #T_18a4f_row0_col4, #T_18a4f_row0_col6, #T_18a4f_row0_col7, #T_18a4f_row1_col5 {\n",
              "  background-color: #fee838;\n",
              "  color: #000000;\n",
              "}\n",
              "#T_18a4f_row0_col5, #T_18a4f_row1_col0, #T_18a4f_row1_col1, #T_18a4f_row1_col2, #T_18a4f_row1_col3, #T_18a4f_row1_col4, #T_18a4f_row1_col6, #T_18a4f_row1_col7 {\n",
              "  background-color: #00224e;\n",
              "  color: #f1f1f1;\n",
              "}\n",
              "</style>\n",
              "<table id=\"T_18a4f\" class=\"dataframe\">\n",
              "  <thead>\n",
              "    <tr>\n",
              "      <th class=\"index_name level0\" >FamilyMembers</th>\n",
              "      <th id=\"T_18a4f_level0_col0\" class=\"col_heading level0 col0\" >2</th>\n",
              "      <th id=\"T_18a4f_level0_col1\" class=\"col_heading level0 col1\" >3</th>\n",
              "      <th id=\"T_18a4f_level0_col2\" class=\"col_heading level0 col2\" >4</th>\n",
              "      <th id=\"T_18a4f_level0_col3\" class=\"col_heading level0 col3\" >5</th>\n",
              "      <th id=\"T_18a4f_level0_col4\" class=\"col_heading level0 col4\" >6</th>\n",
              "      <th id=\"T_18a4f_level0_col5\" class=\"col_heading level0 col5\" >7</th>\n",
              "      <th id=\"T_18a4f_level0_col6\" class=\"col_heading level0 col6\" >8</th>\n",
              "      <th id=\"T_18a4f_level0_col7\" class=\"col_heading level0 col7\" >9</th>\n",
              "    </tr>\n",
              "    <tr>\n",
              "      <th class=\"index_name level0\" >TravelInsurance</th>\n",
              "      <th class=\"blank col0\" >&nbsp;</th>\n",
              "      <th class=\"blank col1\" >&nbsp;</th>\n",
              "      <th class=\"blank col2\" >&nbsp;</th>\n",
              "      <th class=\"blank col3\" >&nbsp;</th>\n",
              "      <th class=\"blank col4\" >&nbsp;</th>\n",
              "      <th class=\"blank col5\" >&nbsp;</th>\n",
              "      <th class=\"blank col6\" >&nbsp;</th>\n",
              "      <th class=\"blank col7\" >&nbsp;</th>\n",
              "    </tr>\n",
              "  </thead>\n",
              "  <tbody>\n",
              "    <tr>\n",
              "      <th id=\"T_18a4f_level0_row0\" class=\"row_heading level0 row0\" >0</th>\n",
              "      <td id=\"T_18a4f_row0_col0\" class=\"data row0 col0\" >71%</td>\n",
              "      <td id=\"T_18a4f_row0_col1\" class=\"data row0 col1\" >63%</td>\n",
              "      <td id=\"T_18a4f_row0_col2\" class=\"data row0 col2\" >63%</td>\n",
              "      <td id=\"T_18a4f_row0_col3\" class=\"data row0 col3\" >67%</td>\n",
              "      <td id=\"T_18a4f_row0_col4\" class=\"data row0 col4\" >56%</td>\n",
              "      <td id=\"T_18a4f_row0_col5\" class=\"data row0 col5\" >49%</td>\n",
              "      <td id=\"T_18a4f_row0_col6\" class=\"data row0 col6\" >63%</td>\n",
              "      <td id=\"T_18a4f_row0_col7\" class=\"data row0 col7\" >52%</td>\n",
              "    </tr>\n",
              "    <tr>\n",
              "      <th id=\"T_18a4f_level0_row1\" class=\"row_heading level0 row1\" >1</th>\n",
              "      <td id=\"T_18a4f_row1_col0\" class=\"data row1 col0\" >29%</td>\n",
              "      <td id=\"T_18a4f_row1_col1\" class=\"data row1 col1\" >37%</td>\n",
              "      <td id=\"T_18a4f_row1_col2\" class=\"data row1 col2\" >37%</td>\n",
              "      <td id=\"T_18a4f_row1_col3\" class=\"data row1 col3\" >33%</td>\n",
              "      <td id=\"T_18a4f_row1_col4\" class=\"data row1 col4\" >44%</td>\n",
              "      <td id=\"T_18a4f_row1_col5\" class=\"data row1 col5\" >51%</td>\n",
              "      <td id=\"T_18a4f_row1_col6\" class=\"data row1 col6\" >37%</td>\n",
              "      <td id=\"T_18a4f_row1_col7\" class=\"data row1 col7\" >48%</td>\n",
              "    </tr>\n",
              "  </tbody>\n",
              "</table>\n"
            ]
          },
          "metadata": {},
          "execution_count": 164
        }
      ],
      "source": [
        "table = pd.crosstab(travel['TravelInsurance'], travel['FamilyMembers'], normalize='columns').style.background_gradient(cmap='cividis')\n",
        "FamilyMembers_table = table.format({col: \"{:.0%}\" for col in table.columns})\n",
        "FamilyMembers_table"
      ]
    },
    {
      "cell_type": "markdown",
      "metadata": {
        "id": "C-6nbPXdAGg9"
      },
      "source": [
        "For each amount of familymembers, there are more cases without insurance. However, it seems like the more familymembers, the larger the relative proportion of cases that does have insurance. We might wonder whether this is because the costs and inconvenience involved with irregularities on holiday are estimated to be higher with more people, the risk of it higher or group pressure."
      ]
    },
    {
      "cell_type": "code",
      "source": [
        "ranges = range(0, 1800001, 300000)\n",
        "group_names = ['0-300k', '300k-600k', '600k-900k', '900k-1200k', '1200k-1500k', '1500k-1800k']\n",
        "travel['income_groups'] = pd.cut(travel['AnnualIncome'], bins=ranges, labels=group_names)"
      ],
      "metadata": {
        "id": "vdUC_JRm1uF6"
      },
      "execution_count": null,
      "outputs": []
    },
    {
      "cell_type": "code",
      "source": [
        "travel.groupby(\"income_groups\").agg({'id': 'count', 'TravelInsurance': 'mean'}).rename(columns={'id': 'count'})"
      ],
      "metadata": {
        "colab": {
          "base_uri": "https://localhost:8080/",
          "height": 269
        },
        "id": "U67kqYrO7F6v",
        "outputId": "9ade5b3b-bf8e-4372-d35b-0f7b06cc2fb3"
      },
      "execution_count": null,
      "outputs": [
        {
          "output_type": "execute_result",
          "data": {
            "text/plain": [
              "               count  TravelInsurance\n",
              "income_groups                        \n",
              "0-300k            31            0.161\n",
              "300k-600k        294            0.269\n",
              "600k-900k        322            0.317\n",
              "900k-1200k       293            0.314\n",
              "1200k-1500k      269            0.665\n",
              "1500k-1800k       40            0.650"
            ],
            "text/html": [
              "\n",
              "  <div id=\"df-7b1b3606-36e5-4e0b-a9b9-82adcd1b41e2\" class=\"colab-df-container\">\n",
              "    <div>\n",
              "<style scoped>\n",
              "    .dataframe tbody tr th:only-of-type {\n",
              "        vertical-align: middle;\n",
              "    }\n",
              "\n",
              "    .dataframe tbody tr th {\n",
              "        vertical-align: top;\n",
              "    }\n",
              "\n",
              "    .dataframe thead th {\n",
              "        text-align: right;\n",
              "    }\n",
              "</style>\n",
              "<table border=\"1\" class=\"dataframe\">\n",
              "  <thead>\n",
              "    <tr style=\"text-align: right;\">\n",
              "      <th></th>\n",
              "      <th>count</th>\n",
              "      <th>TravelInsurance</th>\n",
              "    </tr>\n",
              "    <tr>\n",
              "      <th>income_groups</th>\n",
              "      <th></th>\n",
              "      <th></th>\n",
              "    </tr>\n",
              "  </thead>\n",
              "  <tbody>\n",
              "    <tr>\n",
              "      <th>0-300k</th>\n",
              "      <td>31</td>\n",
              "      <td>0.161</td>\n",
              "    </tr>\n",
              "    <tr>\n",
              "      <th>300k-600k</th>\n",
              "      <td>294</td>\n",
              "      <td>0.269</td>\n",
              "    </tr>\n",
              "    <tr>\n",
              "      <th>600k-900k</th>\n",
              "      <td>322</td>\n",
              "      <td>0.317</td>\n",
              "    </tr>\n",
              "    <tr>\n",
              "      <th>900k-1200k</th>\n",
              "      <td>293</td>\n",
              "      <td>0.314</td>\n",
              "    </tr>\n",
              "    <tr>\n",
              "      <th>1200k-1500k</th>\n",
              "      <td>269</td>\n",
              "      <td>0.665</td>\n",
              "    </tr>\n",
              "    <tr>\n",
              "      <th>1500k-1800k</th>\n",
              "      <td>40</td>\n",
              "      <td>0.650</td>\n",
              "    </tr>\n",
              "  </tbody>\n",
              "</table>\n",
              "</div>\n",
              "    <div class=\"colab-df-buttons\">\n",
              "\n",
              "  <div class=\"colab-df-container\">\n",
              "    <button class=\"colab-df-convert\" onclick=\"convertToInteractive('df-7b1b3606-36e5-4e0b-a9b9-82adcd1b41e2')\"\n",
              "            title=\"Convert this dataframe to an interactive table.\"\n",
              "            style=\"display:none;\">\n",
              "\n",
              "  <svg xmlns=\"http://www.w3.org/2000/svg\" height=\"24px\" viewBox=\"0 -960 960 960\">\n",
              "    <path d=\"M120-120v-720h720v720H120Zm60-500h600v-160H180v160Zm220 220h160v-160H400v160Zm0 220h160v-160H400v160ZM180-400h160v-160H180v160Zm440 0h160v-160H620v160ZM180-180h160v-160H180v160Zm440 0h160v-160H620v160Z\"/>\n",
              "  </svg>\n",
              "    </button>\n",
              "\n",
              "  <style>\n",
              "    .colab-df-container {\n",
              "      display:flex;\n",
              "      gap: 12px;\n",
              "    }\n",
              "\n",
              "    .colab-df-convert {\n",
              "      background-color: #E8F0FE;\n",
              "      border: none;\n",
              "      border-radius: 50%;\n",
              "      cursor: pointer;\n",
              "      display: none;\n",
              "      fill: #1967D2;\n",
              "      height: 32px;\n",
              "      padding: 0 0 0 0;\n",
              "      width: 32px;\n",
              "    }\n",
              "\n",
              "    .colab-df-convert:hover {\n",
              "      background-color: #E2EBFA;\n",
              "      box-shadow: 0px 1px 2px rgba(60, 64, 67, 0.3), 0px 1px 3px 1px rgba(60, 64, 67, 0.15);\n",
              "      fill: #174EA6;\n",
              "    }\n",
              "\n",
              "    .colab-df-buttons div {\n",
              "      margin-bottom: 4px;\n",
              "    }\n",
              "\n",
              "    [theme=dark] .colab-df-convert {\n",
              "      background-color: #3B4455;\n",
              "      fill: #D2E3FC;\n",
              "    }\n",
              "\n",
              "    [theme=dark] .colab-df-convert:hover {\n",
              "      background-color: #434B5C;\n",
              "      box-shadow: 0px 1px 3px 1px rgba(0, 0, 0, 0.15);\n",
              "      filter: drop-shadow(0px 1px 2px rgba(0, 0, 0, 0.3));\n",
              "      fill: #FFFFFF;\n",
              "    }\n",
              "  </style>\n",
              "\n",
              "    <script>\n",
              "      const buttonEl =\n",
              "        document.querySelector('#df-7b1b3606-36e5-4e0b-a9b9-82adcd1b41e2 button.colab-df-convert');\n",
              "      buttonEl.style.display =\n",
              "        google.colab.kernel.accessAllowed ? 'block' : 'none';\n",
              "\n",
              "      async function convertToInteractive(key) {\n",
              "        const element = document.querySelector('#df-7b1b3606-36e5-4e0b-a9b9-82adcd1b41e2');\n",
              "        const dataTable =\n",
              "          await google.colab.kernel.invokeFunction('convertToInteractive',\n",
              "                                                    [key], {});\n",
              "        if (!dataTable) return;\n",
              "\n",
              "        const docLinkHtml = 'Like what you see? Visit the ' +\n",
              "          '<a target=\"_blank\" href=https://colab.research.google.com/notebooks/data_table.ipynb>data table notebook</a>'\n",
              "          + ' to learn more about interactive tables.';\n",
              "        element.innerHTML = '';\n",
              "        dataTable['output_type'] = 'display_data';\n",
              "        await google.colab.output.renderOutput(dataTable, element);\n",
              "        const docLink = document.createElement('div');\n",
              "        docLink.innerHTML = docLinkHtml;\n",
              "        element.appendChild(docLink);\n",
              "      }\n",
              "    </script>\n",
              "  </div>\n",
              "\n",
              "\n",
              "<div id=\"df-a4109402-ae62-411f-8481-00ff43b2204f\">\n",
              "  <button class=\"colab-df-quickchart\" onclick=\"quickchart('df-a4109402-ae62-411f-8481-00ff43b2204f')\"\n",
              "            title=\"Suggest charts\"\n",
              "            style=\"display:none;\">\n",
              "\n",
              "<svg xmlns=\"http://www.w3.org/2000/svg\" height=\"24px\"viewBox=\"0 0 24 24\"\n",
              "     width=\"24px\">\n",
              "    <g>\n",
              "        <path d=\"M19 3H5c-1.1 0-2 .9-2 2v14c0 1.1.9 2 2 2h14c1.1 0 2-.9 2-2V5c0-1.1-.9-2-2-2zM9 17H7v-7h2v7zm4 0h-2V7h2v10zm4 0h-2v-4h2v4z\"/>\n",
              "    </g>\n",
              "</svg>\n",
              "  </button>\n",
              "\n",
              "<style>\n",
              "  .colab-df-quickchart {\n",
              "      --bg-color: #E8F0FE;\n",
              "      --fill-color: #1967D2;\n",
              "      --hover-bg-color: #E2EBFA;\n",
              "      --hover-fill-color: #174EA6;\n",
              "      --disabled-fill-color: #AAA;\n",
              "      --disabled-bg-color: #DDD;\n",
              "  }\n",
              "\n",
              "  [theme=dark] .colab-df-quickchart {\n",
              "      --bg-color: #3B4455;\n",
              "      --fill-color: #D2E3FC;\n",
              "      --hover-bg-color: #434B5C;\n",
              "      --hover-fill-color: #FFFFFF;\n",
              "      --disabled-bg-color: #3B4455;\n",
              "      --disabled-fill-color: #666;\n",
              "  }\n",
              "\n",
              "  .colab-df-quickchart {\n",
              "    background-color: var(--bg-color);\n",
              "    border: none;\n",
              "    border-radius: 50%;\n",
              "    cursor: pointer;\n",
              "    display: none;\n",
              "    fill: var(--fill-color);\n",
              "    height: 32px;\n",
              "    padding: 0;\n",
              "    width: 32px;\n",
              "  }\n",
              "\n",
              "  .colab-df-quickchart:hover {\n",
              "    background-color: var(--hover-bg-color);\n",
              "    box-shadow: 0 1px 2px rgba(60, 64, 67, 0.3), 0 1px 3px 1px rgba(60, 64, 67, 0.15);\n",
              "    fill: var(--button-hover-fill-color);\n",
              "  }\n",
              "\n",
              "  .colab-df-quickchart-complete:disabled,\n",
              "  .colab-df-quickchart-complete:disabled:hover {\n",
              "    background-color: var(--disabled-bg-color);\n",
              "    fill: var(--disabled-fill-color);\n",
              "    box-shadow: none;\n",
              "  }\n",
              "\n",
              "  .colab-df-spinner {\n",
              "    border: 2px solid var(--fill-color);\n",
              "    border-color: transparent;\n",
              "    border-bottom-color: var(--fill-color);\n",
              "    animation:\n",
              "      spin 1s steps(1) infinite;\n",
              "  }\n",
              "\n",
              "  @keyframes spin {\n",
              "    0% {\n",
              "      border-color: transparent;\n",
              "      border-bottom-color: var(--fill-color);\n",
              "      border-left-color: var(--fill-color);\n",
              "    }\n",
              "    20% {\n",
              "      border-color: transparent;\n",
              "      border-left-color: var(--fill-color);\n",
              "      border-top-color: var(--fill-color);\n",
              "    }\n",
              "    30% {\n",
              "      border-color: transparent;\n",
              "      border-left-color: var(--fill-color);\n",
              "      border-top-color: var(--fill-color);\n",
              "      border-right-color: var(--fill-color);\n",
              "    }\n",
              "    40% {\n",
              "      border-color: transparent;\n",
              "      border-right-color: var(--fill-color);\n",
              "      border-top-color: var(--fill-color);\n",
              "    }\n",
              "    60% {\n",
              "      border-color: transparent;\n",
              "      border-right-color: var(--fill-color);\n",
              "    }\n",
              "    80% {\n",
              "      border-color: transparent;\n",
              "      border-right-color: var(--fill-color);\n",
              "      border-bottom-color: var(--fill-color);\n",
              "    }\n",
              "    90% {\n",
              "      border-color: transparent;\n",
              "      border-bottom-color: var(--fill-color);\n",
              "    }\n",
              "  }\n",
              "</style>\n",
              "\n",
              "  <script>\n",
              "    async function quickchart(key) {\n",
              "      const quickchartButtonEl =\n",
              "        document.querySelector('#' + key + ' button');\n",
              "      quickchartButtonEl.disabled = true;  // To prevent multiple clicks.\n",
              "      quickchartButtonEl.classList.add('colab-df-spinner');\n",
              "      try {\n",
              "        const charts = await google.colab.kernel.invokeFunction(\n",
              "            'suggestCharts', [key], {});\n",
              "      } catch (error) {\n",
              "        console.error('Error during call to suggestCharts:', error);\n",
              "      }\n",
              "      quickchartButtonEl.classList.remove('colab-df-spinner');\n",
              "      quickchartButtonEl.classList.add('colab-df-quickchart-complete');\n",
              "    }\n",
              "    (() => {\n",
              "      let quickchartButtonEl =\n",
              "        document.querySelector('#df-a4109402-ae62-411f-8481-00ff43b2204f button');\n",
              "      quickchartButtonEl.style.display =\n",
              "        google.colab.kernel.accessAllowed ? 'block' : 'none';\n",
              "    })();\n",
              "  </script>\n",
              "</div>\n",
              "    </div>\n",
              "  </div>\n"
            ]
          },
          "metadata": {},
          "execution_count": 166
        }
      ]
    },
    {
      "cell_type": "markdown",
      "source": [
        "* When dividing the income range up in 6 equal classes, we notice that incomes in general are actually quite evenly spread in this dataset, with only the lowest and highest class being smaller.\n",
        "* We can see that in the lowest income category only 6% has a travel insurance, while in the higest two this is over 70%. In the middle ranges around 25% has a travel insurance."
      ],
      "metadata": {
        "id": "Y_3Hn32A-o20"
      }
    },
    {
      "cell_type": "markdown",
      "metadata": {
        "id": "bJCoQBKa_nIT"
      },
      "source": [
        "### Categorical features\n",
        "\n",
        "All categorical features turn out to be binary, except for the newly created income groups."
      ]
    },
    {
      "cell_type": "code",
      "source": [
        "binary_features = ['EmploymentType', 'GraduateOrNot', 'FrequentFlyer', 'EverTravelledAbroad', 'ChronicDiseases', 'income_groups']\n",
        "\n",
        "fig, axes = plt.subplots(nrows=2, ncols=3, figsize=(10,8))\n",
        "\n",
        "for i in range(2):\n",
        "    for j in range(3):\n",
        "        ax = axes[i, j]\n",
        "        binary_feature = binary_features[i * 3 + j]\n",
        "        sns.histplot(x=binary_feature, data=travel, ax=ax)\n",
        "        ax.set_title(f'{binary_feature}')\n",
        "        ax.set_xlabel('')\n",
        "        ax.set_xticklabels(ax.get_xticklabels(), rotation=45, ha='right')\n",
        "\n",
        "plt.tight_layout()\n",
        "plt.show()"
      ],
      "metadata": {
        "id": "1Bdeghj7PjPt",
        "colab": {
          "base_uri": "https://localhost:8080/",
          "height": 807
        },
        "outputId": "49449f91-218f-4efa-8553-3b290af569ef"
      },
      "execution_count": null,
      "outputs": [
        {
          "output_type": "display_data",
          "data": {
            "text/plain": [
              "<Figure size 1000x800 with 6 Axes>"
            ],
            "image/png": "[encoded data removed]"
          },
          "metadata": {}
        }
      ]
    },
    {
      "cell_type": "markdown",
      "source": [
        "We notice that of the total cases in our dataset:\n",
        "* The majority, about 3/4, is employed in the private sector.\n",
        "* The majority is graduated.\n",
        "* Only about one fifth is frequent flyer.\n",
        "* Only about one fifth has travelled abroad.\n",
        "* About one fourth has a chronic disease."
      ],
      "metadata": {
        "id": "GXyTuRLLVyj2"
      }
    },
    {
      "cell_type": "code",
      "execution_count": null,
      "metadata": {
        "id": "1yYeugzrbeo9",
        "colab": {
          "base_uri": "https://localhost:8080/",
          "height": 143
        },
        "outputId": "2fb76915-bf7d-4532-9e14-311cc4cbecd6"
      },
      "outputs": [
        {
          "output_type": "execute_result",
          "data": {
            "text/plain": [
              "TravelInsurance        0    1\n",
              "EverTravelledAbroad          \n",
              "No                   689  316\n",
              "Yes                   77  167"
            ],
            "text/html": [
              "\n",
              "  <div id=\"df-f0612b50-fceb-465a-bf50-6676bbc4eea3\" class=\"colab-df-container\">\n",
              "    <div>\n",
              "<style scoped>\n",
              "    .dataframe tbody tr th:only-of-type {\n",
              "        vertical-align: middle;\n",
              "    }\n",
              "\n",
              "    .dataframe tbody tr th {\n",
              "        vertical-align: top;\n",
              "    }\n",
              "\n",
              "    .dataframe thead th {\n",
              "        text-align: right;\n",
              "    }\n",
              "</style>\n",
              "<table border=\"1\" class=\"dataframe\">\n",
              "  <thead>\n",
              "    <tr style=\"text-align: right;\">\n",
              "      <th>TravelInsurance</th>\n",
              "      <th>0</th>\n",
              "      <th>1</th>\n",
              "    </tr>\n",
              "    <tr>\n",
              "      <th>EverTravelledAbroad</th>\n",
              "      <th></th>\n",
              "      <th></th>\n",
              "    </tr>\n",
              "  </thead>\n",
              "  <tbody>\n",
              "    <tr>\n",
              "      <th>No</th>\n",
              "      <td>689</td>\n",
              "      <td>316</td>\n",
              "    </tr>\n",
              "    <tr>\n",
              "      <th>Yes</th>\n",
              "      <td>77</td>\n",
              "      <td>167</td>\n",
              "    </tr>\n",
              "  </tbody>\n",
              "</table>\n",
              "</div>\n",
              "    <div class=\"colab-df-buttons\">\n",
              "\n",
              "  <div class=\"colab-df-container\">\n",
              "    <button class=\"colab-df-convert\" onclick=\"convertToInteractive('df-f0612b50-fceb-465a-bf50-6676bbc4eea3')\"\n",
              "            title=\"Convert this dataframe to an interactive table.\"\n",
              "            style=\"display:none;\">\n",
              "\n",
              "  <svg xmlns=\"http://www.w3.org/2000/svg\" height=\"24px\" viewBox=\"0 -960 960 960\">\n",
              "    <path d=\"M120-120v-720h720v720H120Zm60-500h600v-160H180v160Zm220 220h160v-160H400v160Zm0 220h160v-160H400v160ZM180-400h160v-160H180v160Zm440 0h160v-160H620v160ZM180-180h160v-160H180v160Zm440 0h160v-160H620v160Z\"/>\n",
              "  </svg>\n",
              "    </button>\n",
              "\n",
              "  <style>\n",
              "    .colab-df-container {\n",
              "      display:flex;\n",
              "      gap: 12px;\n",
              "    }\n",
              "\n",
              "    .colab-df-convert {\n",
              "      background-color: #E8F0FE;\n",
              "      border: none;\n",
              "      border-radius: 50%;\n",
              "      cursor: pointer;\n",
              "      display: none;\n",
              "      fill: #1967D2;\n",
              "      height: 32px;\n",
              "      padding: 0 0 0 0;\n",
              "      width: 32px;\n",
              "    }\n",
              "\n",
              "    .colab-df-convert:hover {\n",
              "      background-color: #E2EBFA;\n",
              "      box-shadow: 0px 1px 2px rgba(60, 64, 67, 0.3), 0px 1px 3px 1px rgba(60, 64, 67, 0.15);\n",
              "      fill: #174EA6;\n",
              "    }\n",
              "\n",
              "    .colab-df-buttons div {\n",
              "      margin-bottom: 4px;\n",
              "    }\n",
              "\n",
              "    [theme=dark] .colab-df-convert {\n",
              "      background-color: #3B4455;\n",
              "      fill: #D2E3FC;\n",
              "    }\n",
              "\n",
              "    [theme=dark] .colab-df-convert:hover {\n",
              "      background-color: #434B5C;\n",
              "      box-shadow: 0px 1px 3px 1px rgba(0, 0, 0, 0.15);\n",
              "      filter: drop-shadow(0px 1px 2px rgba(0, 0, 0, 0.3));\n",
              "      fill: #FFFFFF;\n",
              "    }\n",
              "  </style>\n",
              "\n",
              "    <script>\n",
              "      const buttonEl =\n",
              "        document.querySelector('#df-f0612b50-fceb-465a-bf50-6676bbc4eea3 button.colab-df-convert');\n",
              "      buttonEl.style.display =\n",
              "        google.colab.kernel.accessAllowed ? 'block' : 'none';\n",
              "\n",
              "      async function convertToInteractive(key) {\n",
              "        const element = document.querySelector('#df-f0612b50-fceb-465a-bf50-6676bbc4eea3');\n",
              "        const dataTable =\n",
              "          await google.colab.kernel.invokeFunction('convertToInteractive',\n",
              "                                                    [key], {});\n",
              "        if (!dataTable) return;\n",
              "\n",
              "        const docLinkHtml = 'Like what you see? Visit the ' +\n",
              "          '<a target=\"_blank\" href=https://colab.research.google.com/notebooks/data_table.ipynb>data table notebook</a>'\n",
              "          + ' to learn more about interactive tables.';\n",
              "        element.innerHTML = '';\n",
              "        dataTable['output_type'] = 'display_data';\n",
              "        await google.colab.output.renderOutput(dataTable, element);\n",
              "        const docLink = document.createElement('div');\n",
              "        docLink.innerHTML = docLinkHtml;\n",
              "        element.appendChild(docLink);\n",
              "      }\n",
              "    </script>\n",
              "  </div>\n",
              "\n",
              "\n",
              "<div id=\"df-5e8fc4d6-8ebf-4f9c-ab91-b1dcece93cc4\">\n",
              "  <button class=\"colab-df-quickchart\" onclick=\"quickchart('df-5e8fc4d6-8ebf-4f9c-ab91-b1dcece93cc4')\"\n",
              "            title=\"Suggest charts\"\n",
              "            style=\"display:none;\">\n",
              "\n",
              "<svg xmlns=\"http://www.w3.org/2000/svg\" height=\"24px\"viewBox=\"0 0 24 24\"\n",
              "     width=\"24px\">\n",
              "    <g>\n",
              "        <path d=\"M19 3H5c-1.1 0-2 .9-2 2v14c0 1.1.9 2 2 2h14c1.1 0 2-.9 2-2V5c0-1.1-.9-2-2-2zM9 17H7v-7h2v7zm4 0h-2V7h2v10zm4 0h-2v-4h2v4z\"/>\n",
              "    </g>\n",
              "</svg>\n",
              "  </button>\n",
              "\n",
              "<style>\n",
              "  .colab-df-quickchart {\n",
              "      --bg-color: #E8F0FE;\n",
              "      --fill-color: #1967D2;\n",
              "      --hover-bg-color: #E2EBFA;\n",
              "      --hover-fill-color: #174EA6;\n",
              "      --disabled-fill-color: #AAA;\n",
              "      --disabled-bg-color: #DDD;\n",
              "  }\n",
              "\n",
              "  [theme=dark] .colab-df-quickchart {\n",
              "      --bg-color: #3B4455;\n",
              "      --fill-color: #D2E3FC;\n",
              "      --hover-bg-color: #434B5C;\n",
              "      --hover-fill-color: #FFFFFF;\n",
              "      --disabled-bg-color: #3B4455;\n",
              "      --disabled-fill-color: #666;\n",
              "  }\n",
              "\n",
              "  .colab-df-quickchart {\n",
              "    background-color: var(--bg-color);\n",
              "    border: none;\n",
              "    border-radius: 50%;\n",
              "    cursor: pointer;\n",
              "    display: none;\n",
              "    fill: var(--fill-color);\n",
              "    height: 32px;\n",
              "    padding: 0;\n",
              "    width: 32px;\n",
              "  }\n",
              "\n",
              "  .colab-df-quickchart:hover {\n",
              "    background-color: var(--hover-bg-color);\n",
              "    box-shadow: 0 1px 2px rgba(60, 64, 67, 0.3), 0 1px 3px 1px rgba(60, 64, 67, 0.15);\n",
              "    fill: var(--button-hover-fill-color);\n",
              "  }\n",
              "\n",
              "  .colab-df-quickchart-complete:disabled,\n",
              "  .colab-df-quickchart-complete:disabled:hover {\n",
              "    background-color: var(--disabled-bg-color);\n",
              "    fill: var(--disabled-fill-color);\n",
              "    box-shadow: none;\n",
              "  }\n",
              "\n",
              "  .colab-df-spinner {\n",
              "    border: 2px solid var(--fill-color);\n",
              "    border-color: transparent;\n",
              "    border-bottom-color: var(--fill-color);\n",
              "    animation:\n",
              "      spin 1s steps(1) infinite;\n",
              "  }\n",
              "\n",
              "  @keyframes spin {\n",
              "    0% {\n",
              "      border-color: transparent;\n",
              "      border-bottom-color: var(--fill-color);\n",
              "      border-left-color: var(--fill-color);\n",
              "    }\n",
              "    20% {\n",
              "      border-color: transparent;\n",
              "      border-left-color: var(--fill-color);\n",
              "      border-top-color: var(--fill-color);\n",
              "    }\n",
              "    30% {\n",
              "      border-color: transparent;\n",
              "      border-left-color: var(--fill-color);\n",
              "      border-top-color: var(--fill-color);\n",
              "      border-right-color: var(--fill-color);\n",
              "    }\n",
              "    40% {\n",
              "      border-color: transparent;\n",
              "      border-right-color: var(--fill-color);\n",
              "      border-top-color: var(--fill-color);\n",
              "    }\n",
              "    60% {\n",
              "      border-color: transparent;\n",
              "      border-right-color: var(--fill-color);\n",
              "    }\n",
              "    80% {\n",
              "      border-color: transparent;\n",
              "      border-right-color: var(--fill-color);\n",
              "      border-bottom-color: var(--fill-color);\n",
              "    }\n",
              "    90% {\n",
              "      border-color: transparent;\n",
              "      border-bottom-color: var(--fill-color);\n",
              "    }\n",
              "  }\n",
              "</style>\n",
              "\n",
              "  <script>\n",
              "    async function quickchart(key) {\n",
              "      const quickchartButtonEl =\n",
              "        document.querySelector('#' + key + ' button');\n",
              "      quickchartButtonEl.disabled = true;  // To prevent multiple clicks.\n",
              "      quickchartButtonEl.classList.add('colab-df-spinner');\n",
              "      try {\n",
              "        const charts = await google.colab.kernel.invokeFunction(\n",
              "            'suggestCharts', [key], {});\n",
              "      } catch (error) {\n",
              "        console.error('Error during call to suggestCharts:', error);\n",
              "      }\n",
              "      quickchartButtonEl.classList.remove('colab-df-spinner');\n",
              "      quickchartButtonEl.classList.add('colab-df-quickchart-complete');\n",
              "    }\n",
              "    (() => {\n",
              "      let quickchartButtonEl =\n",
              "        document.querySelector('#df-5e8fc4d6-8ebf-4f9c-ab91-b1dcece93cc4 button');\n",
              "      quickchartButtonEl.style.display =\n",
              "        google.colab.kernel.accessAllowed ? 'block' : 'none';\n",
              "    })();\n",
              "  </script>\n",
              "</div>\n",
              "    </div>\n",
              "  </div>\n"
            ]
          },
          "metadata": {},
          "execution_count": 171
        }
      ],
      "source": [
        "pd.crosstab(travel.EverTravelledAbroad, travel.TravelInsurance)"
      ]
    },
    {
      "cell_type": "markdown",
      "metadata": {
        "id": "z86r8gPTaOJl"
      },
      "source": [
        "* What seems surprising is that the majority of cases in our dataset has never travelled abroad.\n",
        "* However, looking at the within-group variation, we can see that of the total amount of people that does travel abroad a higher proportion has insurance, than in the group that does not travel abroad.\n",
        "* We might wonder based on this feature EverTravelledAbroad, whether the dataset is representative of the population.\n",
        "However, from the information with our dataset we do not know much about the context of the dataset in terms of geographics, date range etc. If the data is from decades back, it might not be as uncommon to not have travelled abroad. Or in a large country like the US it might be much more likely that people never travelled abroad than in a European country.\n",
        "\n"
      ]
    },
    {
      "cell_type": "code",
      "source": [
        "binary_features = ['GraduateOrNot', 'FrequentFlyer', 'EverTravelledAbroad', 'ChronicDiseases']\n",
        "\n",
        "order = ['No', 'Yes']\n",
        "fig, axes = plt.subplots(nrows=2, ncols=2, figsize=(7, 6))\n",
        "\n",
        "for i in range(2):\n",
        "    for j in range(2):\n",
        "        ax = axes[i, j]\n",
        "        binary_feature = binary_features[i * 2 + j]\n",
        "        sns.barplot(x=binary_feature, y='TravelInsurance', data=travel, ax=ax, ci=None, order=order)\n",
        "        ax.set_title(f'{binary_feature}')\n",
        "        ax.set_xlabel('')\n",
        "plt.tight_layout()\n",
        "plt.show()"
      ],
      "metadata": {
        "id": "vNpr-VhAAN2B",
        "colab": {
          "base_uri": "https://localhost:8080/",
          "height": 607
        },
        "outputId": "ff1720e0-8155-44a8-ce1d-1154f58f4391"
      },
      "execution_count": null,
      "outputs": [
        {
          "output_type": "display_data",
          "data": {
            "text/plain": [
              "<Figure size 700x600 with 4 Axes>"
            ],
            "image/png": "[encoded data removed]"
          },
          "metadata": {}
        }
      ]
    },
    {
      "cell_type": "markdown",
      "source": [
        "Looking more specifically only at cases that do have a travel insurance, we notice they more often than not:\n",
        "* are Graduated\n",
        "* are Frequent flyers\n",
        "* Have travelled abroad\n",
        "* almost no difference in chronic diseases\n",
        "\n",
        "In conclusion, only the fact that the majority is graduated they have in common with the total sample. In terms of frequent flying, travelling abroad and chronic diseases, this group shows the opposite pattern. Thus, this seems to indicate that people that have a travel insurance are differing from the overall population in some aspects."
      ],
      "metadata": {
        "id": "uTcTkjosVV5s"
      }
    },
    {
      "cell_type": "code",
      "execution_count": null,
      "metadata": {
        "id": "YCdoEKYYH6OF",
        "colab": {
          "base_uri": "https://localhost:8080/",
          "height": 143
        },
        "outputId": "514e8723-6548-4d2a-aa88-3609a19bc5bc"
      },
      "outputs": [
        {
          "output_type": "execute_result",
          "data": {
            "text/plain": [
              "TravelInsurance                 0    1\n",
              "EmploymentType                        \n",
              "Government Sector             250  123\n",
              "Private Sector/Self Employed  516  360"
            ],
            "text/html": [
              "\n",
              "  <div id=\"df-6c18aea7-e1c7-406e-85d5-db610632dee7\" class=\"colab-df-container\">\n",
              "    <div>\n",
              "<style scoped>\n",
              "    .dataframe tbody tr th:only-of-type {\n",
              "        vertical-align: middle;\n",
              "    }\n",
              "\n",
              "    .dataframe tbody tr th {\n",
              "        vertical-align: top;\n",
              "    }\n",
              "\n",
              "    .dataframe thead th {\n",
              "        text-align: right;\n",
              "    }\n",
              "</style>\n",
              "<table border=\"1\" class=\"dataframe\">\n",
              "  <thead>\n",
              "    <tr style=\"text-align: right;\">\n",
              "      <th>TravelInsurance</th>\n",
              "      <th>0</th>\n",
              "      <th>1</th>\n",
              "    </tr>\n",
              "    <tr>\n",
              "      <th>EmploymentType</th>\n",
              "      <th></th>\n",
              "      <th></th>\n",
              "    </tr>\n",
              "  </thead>\n",
              "  <tbody>\n",
              "    <tr>\n",
              "      <th>Government Sector</th>\n",
              "      <td>250</td>\n",
              "      <td>123</td>\n",
              "    </tr>\n",
              "    <tr>\n",
              "      <th>Private Sector/Self Employed</th>\n",
              "      <td>516</td>\n",
              "      <td>360</td>\n",
              "    </tr>\n",
              "  </tbody>\n",
              "</table>\n",
              "</div>\n",
              "    <div class=\"colab-df-buttons\">\n",
              "\n",
              "  <div class=\"colab-df-container\">\n",
              "    <button class=\"colab-df-convert\" onclick=\"convertToInteractive('df-6c18aea7-e1c7-406e-85d5-db610632dee7')\"\n",
              "            title=\"Convert this dataframe to an interactive table.\"\n",
              "            style=\"display:none;\">\n",
              "\n",
              "  <svg xmlns=\"http://www.w3.org/2000/svg\" height=\"24px\" viewBox=\"0 -960 960 960\">\n",
              "    <path d=\"M120-120v-720h720v720H120Zm60-500h600v-160H180v160Zm220 220h160v-160H400v160Zm0 220h160v-160H400v160ZM180-400h160v-160H180v160Zm440 0h160v-160H620v160ZM180-180h160v-160H180v160Zm440 0h160v-160H620v160Z\"/>\n",
              "  </svg>\n",
              "    </button>\n",
              "\n",
              "  <style>\n",
              "    .colab-df-container {\n",
              "      display:flex;\n",
              "      gap: 12px;\n",
              "    }\n",
              "\n",
              "    .colab-df-convert {\n",
              "      background-color: #E8F0FE;\n",
              "      border: none;\n",
              "      border-radius: 50%;\n",
              "      cursor: pointer;\n",
              "      display: none;\n",
              "      fill: #1967D2;\n",
              "      height: 32px;\n",
              "      padding: 0 0 0 0;\n",
              "      width: 32px;\n",
              "    }\n",
              "\n",
              "    .colab-df-convert:hover {\n",
              "      background-color: #E2EBFA;\n",
              "      box-shadow: 0px 1px 2px rgba(60, 64, 67, 0.3), 0px 1px 3px 1px rgba(60, 64, 67, 0.15);\n",
              "      fill: #174EA6;\n",
              "    }\n",
              "\n",
              "    .colab-df-buttons div {\n",
              "      margin-bottom: 4px;\n",
              "    }\n",
              "\n",
              "    [theme=dark] .colab-df-convert {\n",
              "      background-color: #3B4455;\n",
              "      fill: #D2E3FC;\n",
              "    }\n",
              "\n",
              "    [theme=dark] .colab-df-convert:hover {\n",
              "      background-color: #434B5C;\n",
              "      box-shadow: 0px 1px 3px 1px rgba(0, 0, 0, 0.15);\n",
              "      filter: drop-shadow(0px 1px 2px rgba(0, 0, 0, 0.3));\n",
              "      fill: #FFFFFF;\n",
              "    }\n",
              "  </style>\n",
              "\n",
              "    <script>\n",
              "      const buttonEl =\n",
              "        document.querySelector('#df-6c18aea7-e1c7-406e-85d5-db610632dee7 button.colab-df-convert');\n",
              "      buttonEl.style.display =\n",
              "        google.colab.kernel.accessAllowed ? 'block' : 'none';\n",
              "\n",
              "      async function convertToInteractive(key) {\n",
              "        const element = document.querySelector('#df-6c18aea7-e1c7-406e-85d5-db610632dee7');\n",
              "        const dataTable =\n",
              "          await google.colab.kernel.invokeFunction('convertToInteractive',\n",
              "                                                    [key], {});\n",
              "        if (!dataTable) return;\n",
              "\n",
              "        const docLinkHtml = 'Like what you see? Visit the ' +\n",
              "          '<a target=\"_blank\" href=https://colab.research.google.com/notebooks/data_table.ipynb>data table notebook</a>'\n",
              "          + ' to learn more about interactive tables.';\n",
              "        element.innerHTML = '';\n",
              "        dataTable['output_type'] = 'display_data';\n",
              "        await google.colab.output.renderOutput(dataTable, element);\n",
              "        const docLink = document.createElement('div');\n",
              "        docLink.innerHTML = docLinkHtml;\n",
              "        element.appendChild(docLink);\n",
              "      }\n",
              "    </script>\n",
              "  </div>\n",
              "\n",
              "\n",
              "<div id=\"df-5ee47625-cd71-411f-ac8b-6c0e4d1797b4\">\n",
              "  <button class=\"colab-df-quickchart\" onclick=\"quickchart('df-5ee47625-cd71-411f-ac8b-6c0e4d1797b4')\"\n",
              "            title=\"Suggest charts\"\n",
              "            style=\"display:none;\">\n",
              "\n",
              "<svg xmlns=\"http://www.w3.org/2000/svg\" height=\"24px\"viewBox=\"0 0 24 24\"\n",
              "     width=\"24px\">\n",
              "    <g>\n",
              "        <path d=\"M19 3H5c-1.1 0-2 .9-2 2v14c0 1.1.9 2 2 2h14c1.1 0 2-.9 2-2V5c0-1.1-.9-2-2-2zM9 17H7v-7h2v7zm4 0h-2V7h2v10zm4 0h-2v-4h2v4z\"/>\n",
              "    </g>\n",
              "</svg>\n",
              "  </button>\n",
              "\n",
              "<style>\n",
              "  .colab-df-quickchart {\n",
              "      --bg-color: #E8F0FE;\n",
              "      --fill-color: #1967D2;\n",
              "      --hover-bg-color: #E2EBFA;\n",
              "      --hover-fill-color: #174EA6;\n",
              "      --disabled-fill-color: #AAA;\n",
              "      --disabled-bg-color: #DDD;\n",
              "  }\n",
              "\n",
              "  [theme=dark] .colab-df-quickchart {\n",
              "      --bg-color: #3B4455;\n",
              "      --fill-color: #D2E3FC;\n",
              "      --hover-bg-color: #434B5C;\n",
              "      --hover-fill-color: #FFFFFF;\n",
              "      --disabled-bg-color: #3B4455;\n",
              "      --disabled-fill-color: #666;\n",
              "  }\n",
              "\n",
              "  .colab-df-quickchart {\n",
              "    background-color: var(--bg-color);\n",
              "    border: none;\n",
              "    border-radius: 50%;\n",
              "    cursor: pointer;\n",
              "    display: none;\n",
              "    fill: var(--fill-color);\n",
              "    height: 32px;\n",
              "    padding: 0;\n",
              "    width: 32px;\n",
              "  }\n",
              "\n",
              "  .colab-df-quickchart:hover {\n",
              "    background-color: var(--hover-bg-color);\n",
              "    box-shadow: 0 1px 2px rgba(60, 64, 67, 0.3), 0 1px 3px 1px rgba(60, 64, 67, 0.15);\n",
              "    fill: var(--button-hover-fill-color);\n",
              "  }\n",
              "\n",
              "  .colab-df-quickchart-complete:disabled,\n",
              "  .colab-df-quickchart-complete:disabled:hover {\n",
              "    background-color: var(--disabled-bg-color);\n",
              "    fill: var(--disabled-fill-color);\n",
              "    box-shadow: none;\n",
              "  }\n",
              "\n",
              "  .colab-df-spinner {\n",
              "    border: 2px solid var(--fill-color);\n",
              "    border-color: transparent;\n",
              "    border-bottom-color: var(--fill-color);\n",
              "    animation:\n",
              "      spin 1s steps(1) infinite;\n",
              "  }\n",
              "\n",
              "  @keyframes spin {\n",
              "    0% {\n",
              "      border-color: transparent;\n",
              "      border-bottom-color: var(--fill-color);\n",
              "      border-left-color: var(--fill-color);\n",
              "    }\n",
              "    20% {\n",
              "      border-color: transparent;\n",
              "      border-left-color: var(--fill-color);\n",
              "      border-top-color: var(--fill-color);\n",
              "    }\n",
              "    30% {\n",
              "      border-color: transparent;\n",
              "      border-left-color: var(--fill-color);\n",
              "      border-top-color: var(--fill-color);\n",
              "      border-right-color: var(--fill-color);\n",
              "    }\n",
              "    40% {\n",
              "      border-color: transparent;\n",
              "      border-right-color: var(--fill-color);\n",
              "      border-top-color: var(--fill-color);\n",
              "    }\n",
              "    60% {\n",
              "      border-color: transparent;\n",
              "      border-right-color: var(--fill-color);\n",
              "    }\n",
              "    80% {\n",
              "      border-color: transparent;\n",
              "      border-right-color: var(--fill-color);\n",
              "      border-bottom-color: var(--fill-color);\n",
              "    }\n",
              "    90% {\n",
              "      border-color: transparent;\n",
              "      border-bottom-color: var(--fill-color);\n",
              "    }\n",
              "  }\n",
              "</style>\n",
              "\n",
              "  <script>\n",
              "    async function quickchart(key) {\n",
              "      const quickchartButtonEl =\n",
              "        document.querySelector('#' + key + ' button');\n",
              "      quickchartButtonEl.disabled = true;  // To prevent multiple clicks.\n",
              "      quickchartButtonEl.classList.add('colab-df-spinner');\n",
              "      try {\n",
              "        const charts = await google.colab.kernel.invokeFunction(\n",
              "            'suggestCharts', [key], {});\n",
              "      } catch (error) {\n",
              "        console.error('Error during call to suggestCharts:', error);\n",
              "      }\n",
              "      quickchartButtonEl.classList.remove('colab-df-spinner');\n",
              "      quickchartButtonEl.classList.add('colab-df-quickchart-complete');\n",
              "    }\n",
              "    (() => {\n",
              "      let quickchartButtonEl =\n",
              "        document.querySelector('#df-5ee47625-cd71-411f-ac8b-6c0e4d1797b4 button');\n",
              "      quickchartButtonEl.style.display =\n",
              "        google.colab.kernel.accessAllowed ? 'block' : 'none';\n",
              "    })();\n",
              "  </script>\n",
              "</div>\n",
              "    </div>\n",
              "  </div>\n"
            ]
          },
          "metadata": {},
          "execution_count": 173
        }
      ],
      "source": [
        "pd.crosstab(travel.EmploymentType, travel.TravelInsurance)"
      ]
    },
    {
      "cell_type": "markdown",
      "metadata": {
        "id": "7RnX1vsKjxOs"
      },
      "source": [
        "We can see that many more people in the private sector versus the public have travel insurance. However, looking at the spread within these groups, in both the public and private sectors the majority does not have travel insurance."
      ]
    },
    {
      "cell_type": "code",
      "execution_count": null,
      "metadata": {
        "id": "_zIIAVTETaM0",
        "colab": {
          "base_uri": "https://localhost:8080/",
          "height": 641
        },
        "outputId": "53b53d89-442d-4b9f-ea49-5b0a568699bb"
      },
      "outputs": [
        {
          "output_type": "display_data",
          "data": {
            "text/plain": [
              "<Figure size 600x500 with 2 Axes>"
            ],
            "image/png": "[encoded data removed]"
          },
          "metadata": {}
        }
      ],
      "source": [
        "plt.figure(figsize=(6, 5))\n",
        "corr_matrix = travel.corr().round(2)\n",
        "mask = np.triu(np.ones_like(corr_matrix, dtype=bool))\n",
        "sns.heatmap(corr_matrix, mask=mask, cmap='coolwarm', annot=True)\n",
        "plt.title('Correlation Plot')\n",
        "plt.show()"
      ]
    },
    {
      "cell_type": "markdown",
      "metadata": {
        "id": "MPB5gcZPVjAk"
      },
      "source": [
        "* Only annual income seems to be correlated with travel insurance slightly at 0.4.\n",
        "* Budget per familymember logically is somewhat correlated with income and amount of familymembers, however not very strongly."
      ]
    },
    {
      "cell_type": "markdown",
      "metadata": {
        "id": "rhVCM0noebJ9"
      },
      "source": [
        "# Part 2: Data pre-processing"
      ]
    },
    {
      "cell_type": "markdown",
      "metadata": {
        "id": "LuSz0R3Bj90A"
      },
      "source": [
        "The aim of this project is to create a model to predict as accurate as possible who is more likely to get a travel insurance and who not, to ultimately be able predict this for potential new customers.\n",
        "\n",
        "We will use the data we have of people that do and don't have a travel insurance to train a prediction model.\n",
        "\n",
        "The TravelInsurance feature will serve as the target feature, which is binary with values representing our classes to be predicted:\n",
        "- 0: no insurance\n",
        "- 1: insurance\n",
        "\n",
        "Firstly, we will prepare the dataset to be used in a binary classification model, creating a train-test split and a pre-processing pipeline."
      ]
    },
    {
      "cell_type": "code",
      "execution_count": null,
      "metadata": {
        "id": "CnnuFcVmVt72",
        "colab": {
          "base_uri": "https://localhost:8080/"
        },
        "outputId": "e134951a-c676-40ab-b500-c5dcc2072392"
      },
      "outputs": [
        {
          "output_type": "execute_result",
          "data": {
            "text/plain": [
              "0   0.613\n",
              "1   0.387\n",
              "Name: TravelInsurance, dtype: float64"
            ]
          },
          "metadata": {},
          "execution_count": 176
        }
      ],
      "source": [
        "travel_model = travel.copy().drop(columns=(['id', 'income_groups', 'Insurance']))\n",
        "travel_model['TravelInsurance'].value_counts(normalize=True)"
      ]
    },
    {
      "cell_type": "markdown",
      "metadata": {
        "id": "v0nWiOYJ5cyS"
      },
      "source": [
        "* The classes of our target feature are imblanced, with only 36% having an insurance and 64% not. However, we will not try to artificially restore the balance, as this could increase the likelihood of our model to be overfitting and therefore having low predictive accuracy.\n",
        "* We will use the stratify= hyperparameter when creating a train-test split, to make sure the minor category does not become even smaller in either the train or test set."
      ]
    },
    {
      "cell_type": "code",
      "execution_count": null,
      "metadata": {
        "id": "gAUCynLZWLIH",
        "colab": {
          "base_uri": "https://localhost:8080/"
        },
        "outputId": "8d2700c9-8e25-43a8-ff3a-ada00d5f84ac"
      },
      "outputs": [
        {
          "output_type": "stream",
          "name": "stdout",
          "text": [
            "n training set:  999\n",
            "n test set:  250\n"
          ]
        }
      ],
      "source": [
        "train_set, test_set = train_test_split(travel_model, test_size=0.2, random_state = 2, stratify=travel_model['TravelInsurance'])\n",
        "print(\"n training set: \",len(train_set))\n",
        "print(\"n test set: \",len(test_set))\n",
        "\n",
        "X_train = train_set.drop(\"TravelInsurance\", axis=1)\n",
        "y_train = train_set[\"TravelInsurance\"].copy()\n",
        "\n",
        "num_features = X_train.select_dtypes(include=['float64', 'int64'])\n",
        "text_features = X_train.select_dtypes(include=['object'])"
      ]
    },
    {
      "cell_type": "markdown",
      "metadata": {
        "id": "gAoXBudVVrnj"
      },
      "source": [
        "## Pipeline\n",
        "\n",
        "In order to have all features processed in a similar way, we will create a pipeline for it.\n",
        "\n",
        "--> justify choice for transformers like standardscaler, why not minmax or normalizer?"
      ]
    },
    {
      "cell_type": "code",
      "execution_count": null,
      "metadata": {
        "id": "Lz_wiV5GVWfL"
      },
      "outputs": [],
      "source": [
        "num_attribs = list(num_features)\n",
        "cat_attribs = list(text_features)\n",
        "\n",
        "preprocessor = ColumnTransformer([\n",
        "    (\"num\", StandardScaler(), num_attribs),\n",
        "    (\"cat\", OneHotEncoder(), cat_attribs),\n",
        "])\n",
        "\n",
        "full_pipeline = Pipeline([\n",
        "    ('preprocessor', preprocessor)\n",
        "])\n",
        "\n",
        "X_train = full_pipeline.fit_transform(X_train)"
      ]
    },
    {
      "cell_type": "code",
      "source": [
        "feature_names = list(full_pipeline.named_steps['preprocessor'].transformers_[1][1].get_feature_names_out(cat_attribs))"
      ],
      "metadata": {
        "id": "eUfRjGRHlNjJ"
      },
      "execution_count": null,
      "outputs": []
    },
    {
      "cell_type": "code",
      "source": [
        "all_feature_names = num_attribs + feature_names\n",
        "df_transformed = pd.DataFrame(X_train, columns=all_feature_names)"
      ],
      "metadata": {
        "id": "6tzqduM-l0b1"
      },
      "execution_count": null,
      "outputs": []
    },
    {
      "cell_type": "code",
      "execution_count": null,
      "metadata": {
        "id": "1tdJwPeBhUlM"
      },
      "outputs": [],
      "source": [
        "X_test = test_set.drop(\"TravelInsurance\", axis=1)\n",
        "y_test = test_set[\"TravelInsurance\"].copy()\n",
        "\n",
        "X_test = full_pipeline.fit_transform(X_test)"
      ]
    },
    {
      "cell_type": "markdown",
      "metadata": {
        "id": "WFdb1eI6mOyh"
      },
      "source": [
        "## Performance evaluation functions\n",
        "\n",
        "# check standard for writing functions"
      ]
    },
    {
      "cell_type": "code",
      "execution_count": null,
      "metadata": {
        "id": "dcfeE4FseMPt"
      },
      "outputs": [],
      "source": [
        "def classification_evaluation(model_name, x, y, pred_labels):\n",
        "\n",
        "  cm = confusion_matrix(y, pred_labels)\n",
        "  fig, ax = plt.subplots(figsize=(3,3))\n",
        "  ax.imshow(cm)\n",
        "  ax.grid(False)\n",
        "  ax.xaxis.set(ticks=(0, 1), ticklabels=('Predicted 0s', 'Predicted 1s'))\n",
        "  ax.yaxis.set(ticks=(0, 1), ticklabels=('Actual 0s', 'Actual 1s'))\n",
        "  ax.set_ylim(1.5, -0.5)\n",
        "  for i in range(2):\n",
        "      for j in range(2):\n",
        "          ax.text(j, i, cm[i, j], ha='center', va='center', color='white')\n",
        "\n",
        "  accuracy = model_name.score(x, y)\n",
        "  print('Accuracy: {:.2f}%\\n'.format(model_name.score(x, y)*100))\n",
        "  print('Classification report:\\n', classification_report(y, pred_labels, zero_division=0))\n",
        "\n",
        "def ROC_AUC(y, prob_y):\n",
        "  fpr, tpr, thresholds = roc_curve(y, prob_y,\n",
        "                                 pos_label=1)\n",
        "  roc_df = pd.DataFrame({'recall': tpr, 'specificity': 1 - fpr})\n",
        "\n",
        "  ax = roc_df.plot(x='specificity', y='recall', figsize=(4, 4), legend=False)\n",
        "  ax.set_ylim(0, 1)\n",
        "  ax.set_xlim(1, 0)\n",
        "  ax.plot((1, 0), (0, 1))\n",
        "  ax.set_xlabel('specificity')\n",
        "  ax.set_ylabel('recall')\n",
        "  ax.set_title('ROC curve');\n",
        "\n",
        "  AUC = roc_auc_score([1 if yi == 1 else 0 for yi in y], prob_y)\n",
        "  print('AUC: {:.2f}\\n'.format(AUC))"
      ]
    },
    {
      "cell_type": "markdown",
      "metadata": {
        "id": "9ONXtUsNgLtI"
      },
      "source": [
        "# Part 3: Data Modelling\n",
        "\n",
        "We will now use different classficiation algorithms to fit a model on our dataset, in order to find out which is best at predicting cases that do and don't have a travel insurance.\n",
        "\n",
        "We will use 10 fold cross-validation for each model, meaning the training set will be split into 10 subsets or folds, then 10 times a model is trained on 9 folds and 1 is left out for validation. On the last one, predictions are made and the model is being evaluated, until each fold has been used for evaluation once.\n",
        "\n",
        "For each model, we then calculate the mean of these 10 accuracy scores and compare it the to the training set accuracy, in order to see if the model is overfitting on the training data.\n",
        "\n",
        "For the hyperparameters, default values are used wherever possible."
      ]
    },
    {
      "cell_type": "markdown",
      "metadata": {
        "id": "qCf-i2CCOniB"
      },
      "source": [
        "## KNN"
      ]
    },
    {
      "cell_type": "code",
      "execution_count": null,
      "metadata": {
        "id": "8LM1_xr0edkU",
        "colab": {
          "base_uri": "https://localhost:8080/"
        },
        "outputId": "c3d027bd-e004-4e62-cc1d-83fadc53c1ac"
      },
      "outputs": [
        {
          "output_type": "stream",
          "name": "stdout",
          "text": [
            "cv mean accuracy: 0.69\n"
          ]
        }
      ],
      "source": [
        "knn = KNeighborsClassifier()\n",
        "cv_scores_knn = cross_val_score(knn, X_train, y_train, cv=10,\n",
        "                       n_jobs=-1)\n",
        "print('cv mean accuracy: {:.2f}'.format(cv_scores_knn.mean()))"
      ]
    },
    {
      "cell_type": "code",
      "execution_count": null,
      "metadata": {
        "id": "KSc9RbKpaniP",
        "colab": {
          "base_uri": "https://localhost:8080/",
          "height": 499
        },
        "outputId": "99edb072-4c63-4fa0-c65e-4758825b5f76"
      },
      "outputs": [
        {
          "output_type": "stream",
          "name": "stdout",
          "text": [
            "Accuracy: 66.80%\n",
            "\n",
            "Classification report:\n",
            "               precision    recall  f1-score   support\n",
            "\n",
            "           0       0.70      0.80      0.75       153\n",
            "           1       0.59      0.46      0.52        97\n",
            "\n",
            "    accuracy                           0.67       250\n",
            "   macro avg       0.65      0.63      0.63       250\n",
            "weighted avg       0.66      0.67      0.66       250\n",
            "\n"
          ]
        },
        {
          "output_type": "display_data",
          "data": {
            "text/plain": [
              "<Figure size 300x300 with 1 Axes>"
            ],
            "image/png": "[encoded data removed]"
          },
          "metadata": {}
        }
      ],
      "source": [
        "knn_model = knn.fit(X_train, y_train)\n",
        "prediction_labels = knn_model.predict(X_test)\n",
        "classification_evaluation(knn_model, X_test, y_test, prediction_labels)"
      ]
    },
    {
      "cell_type": "markdown",
      "metadata": {
        "id": "Lv2vfKmUOq-v"
      },
      "source": [
        "## Logistic regression"
      ]
    },
    {
      "cell_type": "code",
      "execution_count": null,
      "metadata": {
        "id": "N3rfw_TyOtXz",
        "colab": {
          "base_uri": "https://localhost:8080/"
        },
        "outputId": "9b0f0844-34b6-415f-89d0-9a536df9f354"
      },
      "outputs": [
        {
          "output_type": "stream",
          "name": "stdout",
          "text": [
            "cv mean accuracy: 0.70\n"
          ]
        }
      ],
      "source": [
        "logistic = LogisticRegression(solver='liblinear', C=1.0, random_state=2)\n",
        "\n",
        "cv_scores_logistic = cross_val_score(logistic, X_train, y_train, cv=10,\n",
        "                       n_jobs=-1)\n",
        "\n",
        "print('cv mean accuracy: {:.2f}'.format(cv_scores_logistic.mean()))"
      ]
    },
    {
      "cell_type": "code",
      "execution_count": null,
      "metadata": {
        "id": "fF_kB4BzePGX",
        "colab": {
          "base_uri": "https://localhost:8080/",
          "height": 927
        },
        "outputId": "345db108-9e78-4bfb-c23e-bc6905f28749"
      },
      "outputs": [
        {
          "output_type": "stream",
          "name": "stdout",
          "text": [
            "Accuracy: 71.20%\n",
            "\n",
            "Classification report:\n",
            "               precision    recall  f1-score   support\n",
            "\n",
            "           0       0.71      0.88      0.79       153\n",
            "           1       0.70      0.44      0.54        97\n",
            "\n",
            "    accuracy                           0.71       250\n",
            "   macro avg       0.71      0.66      0.67       250\n",
            "weighted avg       0.71      0.71      0.69       250\n",
            "\n",
            "AUC: 0.68\n",
            "\n"
          ]
        },
        {
          "output_type": "display_data",
          "data": {
            "text/plain": [
              "<Figure size 300x300 with 1 Axes>"
            ],
            "image/png": "[encoded data removed]"
          },
          "metadata": {}
        },
        {
          "output_type": "display_data",
          "data": {
            "text/plain": [
              "<Figure size 400x400 with 1 Axes>"
            ],
            "image/png": "[encoded data removed]"
          },
          "metadata": {}
        }
      ],
      "source": [
        "logistic_model = logistic.fit(X_train, y_train)\n",
        "pred_ylabels = logistic_model.predict(X_test)\n",
        "y_pred = logistic_model.predict_proba(X_test)[:, 1]\n",
        "\n",
        "classification_evaluation(logistic_model, X_test, y_test, pred_ylabels)\n",
        "ROC_AUC(y_test, y_pred)"
      ]
    },
    {
      "cell_type": "markdown",
      "metadata": {
        "id": "yLiuRhsVw3DX"
      },
      "source": [
        "## Support vector classifiers\n",
        "\n",
        "As the dataset is relatively small, we will also try support vector machine algorithms.\n",
        "For this, we have different options:\n",
        "* Linear support vector classifier\n",
        "* Linear svc with polynomial features\n",
        "* SVC with polynomial kernel\n",
        "* SVC with RBF kernel"
      ]
    },
    {
      "cell_type": "markdown",
      "metadata": {
        "id": "8A4bpRa7aWUO"
      },
      "source": [
        "### Linear SVC"
      ]
    },
    {
      "cell_type": "code",
      "execution_count": null,
      "metadata": {
        "id": "uNIYZWm5w2dP",
        "colab": {
          "base_uri": "https://localhost:8080/"
        },
        "outputId": "8ba00f01-38d0-4816-e4bc-e7c04f8b4be5"
      },
      "outputs": [
        {
          "output_type": "stream",
          "name": "stdout",
          "text": [
            "cv linear support vector machine mean accuracy: 0.69\n"
          ]
        }
      ],
      "source": [
        "lsvc = LinearSVC(C=1, loss=\"hinge\", random_state=2)\n",
        "cv_scores_lsvc = cross_val_score(lsvc,  X_train, y_train, cv=10,\n",
        "                       n_jobs=-1)\n",
        "print('cv linear support vector machine mean accuracy: {:.2f}'.format(cv_scores_lsvc.mean()))"
      ]
    },
    {
      "cell_type": "code",
      "execution_count": null,
      "metadata": {
        "id": "bxx-8V-o2q3Q",
        "colab": {
          "base_uri": "https://localhost:8080/",
          "height": 499
        },
        "outputId": "9afa6e09-10ca-452a-a027-7aedff03958d"
      },
      "outputs": [
        {
          "output_type": "stream",
          "name": "stdout",
          "text": [
            "Accuracy: 68.40%\n",
            "\n",
            "Classification report:\n",
            "               precision    recall  f1-score   support\n",
            "\n",
            "           0       0.69      0.89      0.77       153\n",
            "           1       0.67      0.36      0.47        97\n",
            "\n",
            "    accuracy                           0.68       250\n",
            "   macro avg       0.68      0.62      0.62       250\n",
            "weighted avg       0.68      0.68      0.66       250\n",
            "\n"
          ]
        },
        {
          "output_type": "display_data",
          "data": {
            "text/plain": [
              "<Figure size 300x300 with 1 Axes>"
            ],
            "image/png": "[encoded data removed]"
          },
          "metadata": {}
        }
      ],
      "source": [
        "lsvc_model = lsvc.fit(X_train, y_train)\n",
        "y_pred_lsvc = lsvc_model.predict(X_test)\n",
        "classification_evaluation(lsvc_model, X_test, y_test, y_pred_lsvc)"
      ]
    },
    {
      "cell_type": "markdown",
      "metadata": {
        "id": "hq2ZJ9RZ9MH_"
      },
      "source": [
        "To try out the linear svm with polynomial features, we need to transform the features before scaling, thus this would require us to create a separate pre-processing pipeline specically for this model type, and run it on the raw training data.\n",
        "\n",
        "Alternatively we can run a non-linear SVC with a polynomial kernel."
      ]
    },
    {
      "cell_type": "markdown",
      "metadata": {
        "id": "1kAO3qPRD9xC"
      },
      "source": [
        "### SVC with polynomial kernel"
      ]
    },
    {
      "cell_type": "code",
      "execution_count": null,
      "metadata": {
        "id": "_ER0PMf5BbQJ",
        "colab": {
          "base_uri": "https://localhost:8080/"
        },
        "outputId": "caa2a604-328f-4742-de81-37d6a57c50c2"
      },
      "outputs": [
        {
          "output_type": "stream",
          "name": "stdout",
          "text": [
            "cv polynomial support vector machine mean accuracy: 0.760\n"
          ]
        }
      ],
      "source": [
        "SVM = SVC(kernel=\"poly\", probability=True, random_state=2)\n",
        "\n",
        "cv_scores_svm = cross_val_score(SVM, X_train, y_train, cv=10,\n",
        "                       n_jobs=-1)\n",
        "print('cv polynomial support vector machine mean accuracy: {:.3f}'.format(cv_scores_svm.mean()))"
      ]
    },
    {
      "cell_type": "code",
      "execution_count": null,
      "metadata": {
        "id": "VOmjnZT0B9q6",
        "colab": {
          "base_uri": "https://localhost:8080/"
        },
        "outputId": "e614219d-30ed-4723-89bb-1b8b945a62ed"
      },
      "outputs": [
        {
          "output_type": "stream",
          "name": "stdout",
          "text": [
            "Accuracy: 72.40%\n",
            "\n",
            "Classification report:\n",
            "               precision    recall  f1-score   support\n",
            "\n",
            "           0       0.72      0.89      0.80       153\n",
            "           1       0.73      0.46      0.57        97\n",
            "\n",
            "    accuracy                           0.72       250\n",
            "   macro avg       0.72      0.68      0.68       250\n",
            "weighted avg       0.72      0.72      0.71       250\n",
            "\n"
          ]
        },
        {
          "output_type": "display_data",
          "data": {
            "text/plain": [
              "<Figure size 300x300 with 1 Axes>"
            ],
            "image/png": "[encoded data removed]"
          },
          "metadata": {}
        }
      ],
      "source": [
        "SVM_model = SVM.fit(X_train, y_train)\n",
        "y_pred_SVM = SVM_model.predict(X_test)\n",
        "classification_evaluation(SVM_model, X_test, y_test, y_pred_SVM)"
      ]
    },
    {
      "cell_type": "markdown",
      "metadata": {
        "id": "9fxh74I0_MTx"
      },
      "source": [
        "Accuracy improves when using a polynomial kernel."
      ]
    },
    {
      "cell_type": "markdown",
      "metadata": {
        "id": "Ylbjtd3WC1d6"
      },
      "source": [
        "### SVC with rbf kernel\n",
        "\n",
        "Kernel chosen: radial basis function or Gaussian."
      ]
    },
    {
      "cell_type": "code",
      "execution_count": null,
      "metadata": {
        "id": "Qe4DVrg_C0dO",
        "colab": {
          "base_uri": "https://localhost:8080/"
        },
        "outputId": "574dd406-22a2-4afc-db94-a1e83e89fc41"
      },
      "outputs": [
        {
          "output_type": "stream",
          "name": "stdout",
          "text": [
            "cv support vector machine mean accuracy: 0.763\n"
          ]
        }
      ],
      "source": [
        "SVC_rbf = SVC(kernel=\"rbf\", probability=True, random_state=2)\n",
        "\n",
        "cv_scores_rbf = cross_val_score(SVC_rbf, X_train, y_train, cv=10,\n",
        "                       n_jobs=-1)\n",
        "print('cv support vector machine mean accuracy: {:.3f}'.format(cv_scores_rbf.mean()))"
      ]
    },
    {
      "cell_type": "code",
      "execution_count": null,
      "metadata": {
        "id": "9c-zozRHC0dO",
        "colab": {
          "base_uri": "https://localhost:8080/"
        },
        "outputId": "bba34644-5731-406e-a1ef-85ecd44c5f2c"
      },
      "outputs": [
        {
          "output_type": "stream",
          "name": "stdout",
          "text": [
            "Accuracy: 72.40%\n",
            "\n",
            "Classification report:\n",
            "               precision    recall  f1-score   support\n",
            "\n",
            "           0       0.72      0.90      0.80       153\n",
            "           1       0.73      0.45      0.56        97\n",
            "\n",
            "    accuracy                           0.72       250\n",
            "   macro avg       0.73      0.67      0.68       250\n",
            "weighted avg       0.73      0.72      0.71       250\n",
            "\n"
          ]
        },
        {
          "output_type": "display_data",
          "data": {
            "text/plain": [
              "<Figure size 300x300 with 1 Axes>"
            ],
            "image/png": "[encoded data removed]"
          },
          "metadata": {}
        }
      ],
      "source": [
        "SVC_rbf_model = SVC_rbf.fit(X_train, y_train)\n",
        "y_pred_rbf = SVC_rbf_model.predict(X_test)\n",
        "classification_evaluation(SVC_rbf_model, X_test, y_test, y_pred_rbf)"
      ]
    },
    {
      "cell_type": "markdown",
      "source": [],
      "metadata": {
        "id": "in8q9jTw5cQq"
      }
    },
    {
      "cell_type": "markdown",
      "metadata": {
        "id": "tjr6HCt_U2Bq"
      },
      "source": [
        "The cross-validated accuracy is only slightly higher than the test set accuracy, and than the polynomial kernel svc, knn and logistic models. The model might improve still when tuning hyperparameters."
      ]
    },
    {
      "cell_type": "markdown",
      "metadata": {
        "id": "Jz-wKBvhSvL_"
      },
      "source": [
        "## Decision tree"
      ]
    },
    {
      "cell_type": "code",
      "execution_count": null,
      "metadata": {
        "id": "bmBQMks1cemb",
        "colab": {
          "base_uri": "https://localhost:8080/"
        },
        "outputId": "b2292b3e-99d6-43f5-ddbe-ca0acaf51096"
      },
      "outputs": [
        {
          "output_type": "stream",
          "name": "stdout",
          "text": [
            "cv mean accuracy: 0.60\n"
          ]
        }
      ],
      "source": [
        "decisiontree = DecisionTreeClassifier(random_state=0)\n",
        "\n",
        "cv_scores = cross_val_score(decisiontree,  X_train, y_train, cv=10,\n",
        "                       n_jobs=-1)\n",
        "print('cv mean accuracy: {:.2f}'.format(cv_scores.mean()))"
      ]
    },
    {
      "cell_type": "code",
      "execution_count": null,
      "metadata": {
        "id": "h7rPyE1g3TLG",
        "colab": {
          "base_uri": "https://localhost:8080/",
          "height": 499
        },
        "outputId": "831605ba-2cb6-482a-8040-d7c8e16209e9"
      },
      "outputs": [
        {
          "output_type": "stream",
          "name": "stdout",
          "text": [
            "Accuracy: 55.60%\n",
            "\n",
            "Classification report:\n",
            "               precision    recall  f1-score   support\n",
            "\n",
            "           0       0.62      0.69      0.65       153\n",
            "           1       0.41      0.35      0.38        97\n",
            "\n",
            "    accuracy                           0.56       250\n",
            "   macro avg       0.52      0.52      0.52       250\n",
            "weighted avg       0.54      0.56      0.55       250\n",
            "\n"
          ]
        },
        {
          "output_type": "display_data",
          "data": {
            "text/plain": [
              "<Figure size 300x300 with 1 Axes>"
            ],
            "image/png": "[encoded data removed]"
          },
          "metadata": {}
        }
      ],
      "source": [
        "decisiontree.fit(X_train, y_train)\n",
        "y_pred_tree = decisiontree.predict(X_test)\n",
        "classification_evaluation(decisiontree, X_test, y_test, y_pred_tree)"
      ]
    },
    {
      "cell_type": "markdown",
      "metadata": {
        "id": "V3S5aYZYbQsP"
      },
      "source": [
        "## Random forest"
      ]
    },
    {
      "cell_type": "code",
      "execution_count": null,
      "metadata": {
        "id": "DQIDkzbCbSlE",
        "colab": {
          "base_uri": "https://localhost:8080/"
        },
        "outputId": "7b107e08-1b81-4668-e650-4417d9846818"
      },
      "outputs": [
        {
          "output_type": "stream",
          "name": "stdout",
          "text": [
            "cv mean accuracy: 0.649\n"
          ]
        }
      ],
      "source": [
        "rnd_clf = RandomForestClassifier(random_state=2)\n",
        "\n",
        "cv_scores_rnd = cross_val_score(rnd_clf,  X_train, y_train, cv=10,\n",
        "                       n_jobs=-1, scoring = 'accuracy')\n",
        "print('cv mean accuracy: {:.3f}'.format(cv_scores_rnd.mean()))"
      ]
    },
    {
      "cell_type": "code",
      "execution_count": null,
      "metadata": {
        "id": "Jgn-CSBVbitR",
        "colab": {
          "base_uri": "https://localhost:8080/",
          "height": 499
        },
        "outputId": "66235734-1e1d-4844-a4bd-e739507a10c1"
      },
      "outputs": [
        {
          "output_type": "stream",
          "name": "stdout",
          "text": [
            "Accuracy: 62.00%\n",
            "\n",
            "Classification report:\n",
            "               precision    recall  f1-score   support\n",
            "\n",
            "           0       0.68      0.72      0.70       153\n",
            "           1       0.51      0.46      0.49        97\n",
            "\n",
            "    accuracy                           0.62       250\n",
            "   macro avg       0.60      0.59      0.59       250\n",
            "weighted avg       0.61      0.62      0.62       250\n",
            "\n"
          ]
        },
        {
          "output_type": "display_data",
          "data": {
            "text/plain": [
              "<Figure size 300x300 with 1 Axes>"
            ],
            "image/png": "[encoded data removed]"
          },
          "metadata": {}
        }
      ],
      "source": [
        "rnd_model = rnd_clf.fit(X_train, y_train)\n",
        "y_pred_rf = rnd_model.predict(X_test)\n",
        "classification_evaluation(rnd_model, X_test, y_test, y_pred_rf)"
      ]
    },
    {
      "cell_type": "markdown",
      "metadata": {
        "id": "rrQAYUZ847mg"
      },
      "source": [
        "The random forest is predicting a little more accurately than the single decision tree.\n",
        "\n",
        "Next let's compare all models."
      ]
    },
    {
      "cell_type": "markdown",
      "metadata": {
        "id": "bO5-bljobVtH"
      },
      "source": [
        "# Cross-validation overview\n",
        "\n",
        "We will create an overview of cross-validation scores of all the previously run models. We will use AUC and precision in addition to accuracy, as our dataset is imbalanced."
      ]
    },
    {
      "cell_type": "code",
      "execution_count": null,
      "metadata": {
        "id": "ygEK-vYNa4Jt",
        "colab": {
          "base_uri": "https://localhost:8080/",
          "height": 269
        },
        "outputId": "50754e21-62e9-4158-fb7c-5897db26124d"
      },
      "outputs": [
        {
          "output_type": "execute_result",
          "data": {
            "text/plain": [
              "                      AUC  recall    f1\n",
              "Linear Svc          0.678   0.345 0.456\n",
              "Polynomial Svc      0.749   0.504 0.620\n",
              "Radial Svc          0.741   0.508 0.620\n",
              "Logistic Regression 0.696   0.417 0.515\n",
              "KNN                 0.700   0.512 0.560\n",
              "Decision Tree       0.583   0.503 0.493\n",
              "Random Forest       0.644   0.502 0.529"
            ],
            "text/html": [
              "\n",
              "  <div id=\"df-b1965a19-53f4-42a6-9914-2e43d6464400\" class=\"colab-df-container\">\n",
              "    <div>\n",
              "<style scoped>\n",
              "    .dataframe tbody tr th:only-of-type {\n",
              "        vertical-align: middle;\n",
              "    }\n",
              "\n",
              "    .dataframe tbody tr th {\n",
              "        vertical-align: top;\n",
              "    }\n",
              "\n",
              "    .dataframe thead th {\n",
              "        text-align: right;\n",
              "    }\n",
              "</style>\n",
              "<table border=\"1\" class=\"dataframe\">\n",
              "  <thead>\n",
              "    <tr style=\"text-align: right;\">\n",
              "      <th></th>\n",
              "      <th>AUC</th>\n",
              "      <th>recall</th>\n",
              "      <th>f1</th>\n",
              "    </tr>\n",
              "  </thead>\n",
              "  <tbody>\n",
              "    <tr>\n",
              "      <th>Linear Svc</th>\n",
              "      <td>0.678</td>\n",
              "      <td>0.345</td>\n",
              "      <td>0.456</td>\n",
              "    </tr>\n",
              "    <tr>\n",
              "      <th>Polynomial Svc</th>\n",
              "      <td>0.749</td>\n",
              "      <td>0.504</td>\n",
              "      <td>0.620</td>\n",
              "    </tr>\n",
              "    <tr>\n",
              "      <th>Radial Svc</th>\n",
              "      <td>0.741</td>\n",
              "      <td>0.508</td>\n",
              "      <td>0.620</td>\n",
              "    </tr>\n",
              "    <tr>\n",
              "      <th>Logistic Regression</th>\n",
              "      <td>0.696</td>\n",
              "      <td>0.417</td>\n",
              "      <td>0.515</td>\n",
              "    </tr>\n",
              "    <tr>\n",
              "      <th>KNN</th>\n",
              "      <td>0.700</td>\n",
              "      <td>0.512</td>\n",
              "      <td>0.560</td>\n",
              "    </tr>\n",
              "    <tr>\n",
              "      <th>Decision Tree</th>\n",
              "      <td>0.583</td>\n",
              "      <td>0.503</td>\n",
              "      <td>0.493</td>\n",
              "    </tr>\n",
              "    <tr>\n",
              "      <th>Random Forest</th>\n",
              "      <td>0.644</td>\n",
              "      <td>0.502</td>\n",
              "      <td>0.529</td>\n",
              "    </tr>\n",
              "  </tbody>\n",
              "</table>\n",
              "</div>\n",
              "    <div class=\"colab-df-buttons\">\n",
              "\n",
              "  <div class=\"colab-df-container\">\n",
              "    <button class=\"colab-df-convert\" onclick=\"convertToInteractive('df-b1965a19-53f4-42a6-9914-2e43d6464400')\"\n",
              "            title=\"Convert this dataframe to an interactive table.\"\n",
              "            style=\"display:none;\">\n",
              "\n",
              "  <svg xmlns=\"http://www.w3.org/2000/svg\" height=\"24px\" viewBox=\"0 -960 960 960\">\n",
              "    <path d=\"M120-120v-720h720v720H120Zm60-500h600v-160H180v160Zm220 220h160v-160H400v160Zm0 220h160v-160H400v160ZM180-400h160v-160H180v160Zm440 0h160v-160H620v160ZM180-180h160v-160H180v160Zm440 0h160v-160H620v160Z\"/>\n",
              "  </svg>\n",
              "    </button>\n",
              "\n",
              "  <style>\n",
              "    .colab-df-container {\n",
              "      display:flex;\n",
              "      gap: 12px;\n",
              "    }\n",
              "\n",
              "    .colab-df-convert {\n",
              "      background-color: #E8F0FE;\n",
              "      border: none;\n",
              "      border-radius: 50%;\n",
              "      cursor: pointer;\n",
              "      display: none;\n",
              "      fill: #1967D2;\n",
              "      height: 32px;\n",
              "      padding: 0 0 0 0;\n",
              "      width: 32px;\n",
              "    }\n",
              "\n",
              "    .colab-df-convert:hover {\n",
              "      background-color: #E2EBFA;\n",
              "      box-shadow: 0px 1px 2px rgba(60, 64, 67, 0.3), 0px 1px 3px 1px rgba(60, 64, 67, 0.15);\n",
              "      fill: #174EA6;\n",
              "    }\n",
              "\n",
              "    .colab-df-buttons div {\n",
              "      margin-bottom: 4px;\n",
              "    }\n",
              "\n",
              "    [theme=dark] .colab-df-convert {\n",
              "      background-color: #3B4455;\n",
              "      fill: #D2E3FC;\n",
              "    }\n",
              "\n",
              "    [theme=dark] .colab-df-convert:hover {\n",
              "      background-color: #434B5C;\n",
              "      box-shadow: 0px 1px 3px 1px rgba(0, 0, 0, 0.15);\n",
              "      filter: drop-shadow(0px 1px 2px rgba(0, 0, 0, 0.3));\n",
              "      fill: #FFFFFF;\n",
              "    }\n",
              "  </style>\n",
              "\n",
              "    <script>\n",
              "      const buttonEl =\n",
              "        document.querySelector('#df-b1965a19-53f4-42a6-9914-2e43d6464400 button.colab-df-convert');\n",
              "      buttonEl.style.display =\n",
              "        google.colab.kernel.accessAllowed ? 'block' : 'none';\n",
              "\n",
              "      async function convertToInteractive(key) {\n",
              "        const element = document.querySelector('#df-b1965a19-53f4-42a6-9914-2e43d6464400');\n",
              "        const dataTable =\n",
              "          await google.colab.kernel.invokeFunction('convertToInteractive',\n",
              "                                                    [key], {});\n",
              "        if (!dataTable) return;\n",
              "\n",
              "        const docLinkHtml = 'Like what you see? Visit the ' +\n",
              "          '<a target=\"_blank\" href=https://colab.research.google.com/notebooks/data_table.ipynb>data table notebook</a>'\n",
              "          + ' to learn more about interactive tables.';\n",
              "        element.innerHTML = '';\n",
              "        dataTable['output_type'] = 'display_data';\n",
              "        await google.colab.output.renderOutput(dataTable, element);\n",
              "        const docLink = document.createElement('div');\n",
              "        docLink.innerHTML = docLinkHtml;\n",
              "        element.appendChild(docLink);\n",
              "      }\n",
              "    </script>\n",
              "  </div>\n",
              "\n",
              "\n",
              "<div id=\"df-9bba603f-634d-4e6b-b7dc-02cf70f5644b\">\n",
              "  <button class=\"colab-df-quickchart\" onclick=\"quickchart('df-9bba603f-634d-4e6b-b7dc-02cf70f5644b')\"\n",
              "            title=\"Suggest charts\"\n",
              "            style=\"display:none;\">\n",
              "\n",
              "<svg xmlns=\"http://www.w3.org/2000/svg\" height=\"24px\"viewBox=\"0 0 24 24\"\n",
              "     width=\"24px\">\n",
              "    <g>\n",
              "        <path d=\"M19 3H5c-1.1 0-2 .9-2 2v14c0 1.1.9 2 2 2h14c1.1 0 2-.9 2-2V5c0-1.1-.9-2-2-2zM9 17H7v-7h2v7zm4 0h-2V7h2v10zm4 0h-2v-4h2v4z\"/>\n",
              "    </g>\n",
              "</svg>\n",
              "  </button>\n",
              "\n",
              "<style>\n",
              "  .colab-df-quickchart {\n",
              "      --bg-color: #E8F0FE;\n",
              "      --fill-color: #1967D2;\n",
              "      --hover-bg-color: #E2EBFA;\n",
              "      --hover-fill-color: #174EA6;\n",
              "      --disabled-fill-color: #AAA;\n",
              "      --disabled-bg-color: #DDD;\n",
              "  }\n",
              "\n",
              "  [theme=dark] .colab-df-quickchart {\n",
              "      --bg-color: #3B4455;\n",
              "      --fill-color: #D2E3FC;\n",
              "      --hover-bg-color: #434B5C;\n",
              "      --hover-fill-color: #FFFFFF;\n",
              "      --disabled-bg-color: #3B4455;\n",
              "      --disabled-fill-color: #666;\n",
              "  }\n",
              "\n",
              "  .colab-df-quickchart {\n",
              "    background-color: var(--bg-color);\n",
              "    border: none;\n",
              "    border-radius: 50%;\n",
              "    cursor: pointer;\n",
              "    display: none;\n",
              "    fill: var(--fill-color);\n",
              "    height: 32px;\n",
              "    padding: 0;\n",
              "    width: 32px;\n",
              "  }\n",
              "\n",
              "  .colab-df-quickchart:hover {\n",
              "    background-color: var(--hover-bg-color);\n",
              "    box-shadow: 0 1px 2px rgba(60, 64, 67, 0.3), 0 1px 3px 1px rgba(60, 64, 67, 0.15);\n",
              "    fill: var(--button-hover-fill-color);\n",
              "  }\n",
              "\n",
              "  .colab-df-quickchart-complete:disabled,\n",
              "  .colab-df-quickchart-complete:disabled:hover {\n",
              "    background-color: var(--disabled-bg-color);\n",
              "    fill: var(--disabled-fill-color);\n",
              "    box-shadow: none;\n",
              "  }\n",
              "\n",
              "  .colab-df-spinner {\n",
              "    border: 2px solid var(--fill-color);\n",
              "    border-color: transparent;\n",
              "    border-bottom-color: var(--fill-color);\n",
              "    animation:\n",
              "      spin 1s steps(1) infinite;\n",
              "  }\n",
              "\n",
              "  @keyframes spin {\n",
              "    0% {\n",
              "      border-color: transparent;\n",
              "      border-bottom-color: var(--fill-color);\n",
              "      border-left-color: var(--fill-color);\n",
              "    }\n",
              "    20% {\n",
              "      border-color: transparent;\n",
              "      border-left-color: var(--fill-color);\n",
              "      border-top-color: var(--fill-color);\n",
              "    }\n",
              "    30% {\n",
              "      border-color: transparent;\n",
              "      border-left-color: var(--fill-color);\n",
              "      border-top-color: var(--fill-color);\n",
              "      border-right-color: var(--fill-color);\n",
              "    }\n",
              "    40% {\n",
              "      border-color: transparent;\n",
              "      border-right-color: var(--fill-color);\n",
              "      border-top-color: var(--fill-color);\n",
              "    }\n",
              "    60% {\n",
              "      border-color: transparent;\n",
              "      border-right-color: var(--fill-color);\n",
              "    }\n",
              "    80% {\n",
              "      border-color: transparent;\n",
              "      border-right-color: var(--fill-color);\n",
              "      border-bottom-color: var(--fill-color);\n",
              "    }\n",
              "    90% {\n",
              "      border-color: transparent;\n",
              "      border-bottom-color: var(--fill-color);\n",
              "    }\n",
              "  }\n",
              "</style>\n",
              "\n",
              "  <script>\n",
              "    async function quickchart(key) {\n",
              "      const quickchartButtonEl =\n",
              "        document.querySelector('#' + key + ' button');\n",
              "      quickchartButtonEl.disabled = true;  // To prevent multiple clicks.\n",
              "      quickchartButtonEl.classList.add('colab-df-spinner');\n",
              "      try {\n",
              "        const charts = await google.colab.kernel.invokeFunction(\n",
              "            'suggestCharts', [key], {});\n",
              "      } catch (error) {\n",
              "        console.error('Error during call to suggestCharts:', error);\n",
              "      }\n",
              "      quickchartButtonEl.classList.remove('colab-df-spinner');\n",
              "      quickchartButtonEl.classList.add('colab-df-quickchart-complete');\n",
              "    }\n",
              "    (() => {\n",
              "      let quickchartButtonEl =\n",
              "        document.querySelector('#df-9bba603f-634d-4e6b-b7dc-02cf70f5644b button');\n",
              "      quickchartButtonEl.style.display =\n",
              "        google.colab.kernel.accessAllowed ? 'block' : 'none';\n",
              "    })();\n",
              "  </script>\n",
              "</div>\n",
              "    </div>\n",
              "  </div>\n"
            ]
          },
          "metadata": {},
          "execution_count": 199
        }
      ],
      "source": [
        "from sklearn.model_selection import KFold\n",
        "kfold = KFold(n_splits=10, shuffle=True, random_state=42)\n",
        "roc_auc=[]\n",
        "recall=[]\n",
        "f1=[]\n",
        "classifiers=['Linear Svc','Polynomial Svc','Radial Svc','Logistic Regression','KNN','Decision Tree','Random Forest']\n",
        "models=[SVC(kernel='linear'), SVC(kernel='poly'),SVC(kernel='rbf'),LogisticRegression(),KNeighborsClassifier(),DecisionTreeClassifier(),RandomForestClassifier()]\n",
        "for model in models:\n",
        "    cv_result = cross_val_score(model, X_train, y_train, cv = kfold, scoring = \"roc_auc\")\n",
        "    cv_result2 = cross_val_score(model, X_train, y_train, cv = kfold, scoring = \"recall\")\n",
        "    cv_result3 = cross_val_score(model, X_train, y_train, cv = kfold, scoring = \"f1\")\n",
        "    roc_auc.append(cv_result.mean())\n",
        "    recall.append(cv_result2.mean())\n",
        "    f1.append(cv_result3.mean())\n",
        "cv_dataframe=pd.DataFrame({'AUC':roc_auc, 'recall':recall, 'f1':f1},index=classifiers)\n",
        "cv_dataframe"
      ]
    },
    {
      "cell_type": "markdown",
      "metadata": {
        "id": "NWBpoWC_gR-E"
      },
      "source": [
        "* We can see that the polynomial and radial SVC's, and random forest are highest in AUC, all three have roughly similar AUC of 0.79.\n",
        "* The svc's also stand far out in terms of precision.\n",
        "* In terms of accuracy, the polynomial and radial SVC's are highest as well, followed closely by random forest.\n"
      ]
    },
    {
      "cell_type": "markdown",
      "metadata": {
        "id": "TF_GV36oq6cZ"
      },
      "source": [
        "# Part 4: Hyperparameter tuning\n",
        "\n",
        "We will now try to tune up the performance of two different model types that seemed to have relatively high cross-validated performance: the SVC with rbf kernel and the random forest. Grid search will be used to try out different combinations of hyperparameter values.\n",
        "Accuracy will be used as a performance evaluation metric based on 10 fold cross-validation of the tuned models."
      ]
    },
    {
      "cell_type": "markdown",
      "metadata": {
        "id": "Sc0r76U5sMgS"
      },
      "source": [
        "### RBF SVC\n",
        "For the hyperparameter values in the parameter grid, we chose numbers differing by a power of 10, as suggested [here](https://learning.oreilly.com/library/view/hands-on-machine-learning/9781492032632/ch02.html#idm45022188914664).\n",
        "The kernel itself is not added as a hyperparameter, as when running two separate models for the rbf and poly kernels, the poly kernel model turned out to be so slow that we decided to eliminate it."
      ]
    },
    {
      "cell_type": "code",
      "execution_count": null,
      "metadata": {
        "id": "FCTAQ5qofUwS"
      },
      "outputs": [],
      "source": [
        "params_rbf = {\n",
        "    'C': [0.1, 1, 10, 100],\n",
        "    'gamma': [0.1, 1, 10, 100]\n",
        "}\n",
        "\n",
        "grid_rbf = GridSearchCV(estimator=SVC_rbf,\n",
        "                       param_grid=params_rbf,\n",
        "                       scoring='f1',\n",
        "                       cv=10,\n",
        "                       n_jobs=-1)"
      ]
    },
    {
      "cell_type": "code",
      "execution_count": null,
      "metadata": {
        "id": "aMcQ1hJdna3L",
        "colab": {
          "base_uri": "https://localhost:8080/"
        },
        "outputId": "72508295-8597-4f88-820a-59d5028a5e12"
      },
      "outputs": [
        {
          "output_type": "stream",
          "name": "stdout",
          "text": [
            "Best hyperparameters:\n",
            " {'C': 1, 'gamma': 0.1}\n",
            "Best CV accuracy: 0.618\n"
          ]
        }
      ],
      "source": [
        "grid_rbf.fit(X_train, y_train)\n",
        "\n",
        "best_hyperparams = grid_rbf.best_params_\n",
        "print('Best hyperparameters:\\n', best_hyperparams)\n",
        "\n",
        "best_CV_score = grid_rbf.best_score_\n",
        "print('Best CV accuracy: {:.3f}'.format(best_CV_score))"
      ]
    },
    {
      "cell_type": "code",
      "execution_count": null,
      "metadata": {
        "id": "cDHw9GqCoG4-",
        "colab": {
          "base_uri": "https://localhost:8080/",
          "height": 227
        },
        "outputId": "75727128-909f-4df5-de4d-cda0572e554b"
      },
      "outputs": [
        {
          "output_type": "error",
          "ename": "AttributeError",
          "evalue": "'SVC' object has no attribute 'f1_score'",
          "traceback": [
            "\u001b[0;31m---------------------------------------------------------------------------\u001b[0m",
            "\u001b[0;31mAttributeError\u001b[0m                            Traceback (most recent call last)",
            "\u001b[0;32m<ipython-input-202-dcc20035dee0>\u001b[0m in \u001b[0;36m<cell line: 6>\u001b[0;34m()\u001b[0m\n\u001b[1;32m      4\u001b[0m \u001b[0mtest_rbf_acc\u001b[0m \u001b[0;34m=\u001b[0m \u001b[0mtuned_rbf\u001b[0m\u001b[0;34m.\u001b[0m\u001b[0mscore\u001b[0m\u001b[0;34m(\u001b[0m\u001b[0mX_test\u001b[0m\u001b[0;34m,\u001b[0m \u001b[0my_test\u001b[0m\u001b[0;34m)\u001b[0m\u001b[0;34m\u001b[0m\u001b[0;34m\u001b[0m\u001b[0m\n\u001b[1;32m      5\u001b[0m \u001b[0;34m\u001b[0m\u001b[0m\n\u001b[0;32m----> 6\u001b[0;31m \u001b[0mf1_score\u001b[0m \u001b[0;34m=\u001b[0m \u001b[0mtuned_rbf\u001b[0m\u001b[0;34m.\u001b[0m\u001b[0mf1_score\u001b[0m\u001b[0;34m(\u001b[0m\u001b[0my_test\u001b[0m\u001b[0;34m)\u001b[0m\u001b[0;34m\u001b[0m\u001b[0;34m\u001b[0m\u001b[0m\n\u001b[0m\u001b[1;32m      7\u001b[0m \u001b[0mprint\u001b[0m\u001b[0;34m(\u001b[0m\u001b[0;34m\"Test set accuracy of tuned rbf model: {:.3f}\"\u001b[0m\u001b[0;34m.\u001b[0m\u001b[0mformat\u001b[0m\u001b[0;34m(\u001b[0m\u001b[0mtest_rbf_acc\u001b[0m\u001b[0;34m)\u001b[0m\u001b[0;34m)\u001b[0m\u001b[0;34m\u001b[0m\u001b[0;34m\u001b[0m\u001b[0m\n",
            "\u001b[0;31mAttributeError\u001b[0m: 'SVC' object has no attribute 'f1_score'"
          ]
        }
      ],
      "source": [
        "from sklearn.metrics import f1_score\n",
        "\n",
        "tuned_rbf = grid_rbf.best_estimator_\n",
        "test_rbf_acc = tuned_rbf.score(X_test, y_test)\n",
        "\n",
        "f1_score = tuned_rbf.f1_score(y_test)\n",
        "print(\"Test set accuracy of tuned rbf model: {:.3f}\".format(test_rbf_acc))"
      ]
    },
    {
      "cell_type": "markdown",
      "metadata": {
        "id": "0EqpPNKQgU1K"
      },
      "source": [
        "The svc does not have higher accuracy when tuned compared to the model with default hyperparameter values. It might improve if we use a different array of values in our grid."
      ]
    },
    {
      "cell_type": "code",
      "execution_count": null,
      "metadata": {
        "id": "pYGVVfiFUZMe"
      },
      "outputs": [],
      "source": [
        "updated_params_rbf = {\n",
        "    'C': [5, 10, 20, 50],\n",
        "    'gamma': [0.1, 0.2, 0.3]\n",
        "}\n",
        "\n",
        "grid_rbf_updated = GridSearchCV(estimator=SVC_rbf,\n",
        "                       param_grid=updated_params_rbf,\n",
        "                       scoring='accuracy',\n",
        "                       cv=10,\n",
        "                       n_jobs=-1)"
      ]
    },
    {
      "cell_type": "code",
      "execution_count": null,
      "metadata": {
        "id": "zlOlq-3VUZMe"
      },
      "outputs": [],
      "source": [
        "grid_rbf_updated.fit(X_train, y_train)\n",
        "\n",
        "best_hyperparams = grid_rbf_updated.best_params_\n",
        "print('Best hyperparameters:\\n', best_hyperparams)\n",
        "\n",
        "best_CV_score = grid_rbf_updated.best_score_\n",
        "print('Best CV accuracy: {:.3f}'.format(best_CV_score))"
      ]
    },
    {
      "cell_type": "code",
      "source": [
        "tuned_rbf = grid_rbf_updated.best_estimator_\n",
        "test_rbf_acc = tuned_rbf.score(X_test, y_test)\n",
        "print(\"Test set accuracy of tuned rbf model: {:.3f}\".format(test_rbf_acc))"
      ],
      "metadata": {
        "id": "caJP922rMkNi"
      },
      "execution_count": null,
      "outputs": []
    },
    {
      "cell_type": "markdown",
      "source": [
        "The second round of further tuning provided 1.6% improvement in accuracy."
      ],
      "metadata": {
        "id": "hrTWvNvwC3vU"
      }
    },
    {
      "cell_type": "markdown",
      "metadata": {
        "id": "kO5r16nasQi-"
      },
      "source": [
        "### Random forest"
      ]
    },
    {
      "cell_type": "code",
      "execution_count": null,
      "metadata": {
        "id": "uUhsYux2k9Pf"
      },
      "outputs": [],
      "source": [
        "params_rnd =  {\n",
        "    'n_estimators': [50, 100, 200, 300],\n",
        "    'max_depth': [None, 10, 20, 30],\n",
        "    'min_samples_split': [2, 5, 10],\n",
        "    'min_samples_leaf': [1, 2, 4]\n",
        "}"
      ]
    },
    {
      "cell_type": "code",
      "source": [
        " random_search = RandomizedSearchCV(\n",
        "    rnd_clf,\n",
        "    param_distributions=params_rnd,\n",
        "    n_iter=10,\n",
        "    scoring='accuracy',\n",
        "    cv=5,\n",
        "    n_jobs=-1\n",
        ")"
      ],
      "metadata": {
        "id": "WsZCk5kIprLT"
      },
      "execution_count": null,
      "outputs": []
    },
    {
      "cell_type": "code",
      "execution_count": null,
      "metadata": {
        "id": "ek1sYP2Ibzf8"
      },
      "outputs": [],
      "source": [
        "random_search.fit(X_train, y_train)\n",
        "\n",
        "best_hyperparams = random_search.best_params_\n",
        "print('Best hyperparameters:\\n', best_hyperparams)\n",
        "\n",
        "best_CV_score = random_search.best_score_\n",
        "print('Best CV accuracy: {:.3f}'.format(best_CV_score))"
      ]
    },
    {
      "cell_type": "code",
      "execution_count": null,
      "metadata": {
        "id": "zyT5hs4ubzgC"
      },
      "outputs": [],
      "source": [
        "tuned_rnd = random_search.best_estimator_\n",
        "test_rnd_acc = tuned_rnd.score(X_test, y_test)\n",
        "print(\"Test set accuracy of tuned rnd model: {:.3f}\".format(test_rnd_acc))"
      ]
    },
    {
      "cell_type": "markdown",
      "metadata": {
        "id": "o32MOuV1iyOk"
      },
      "source": [
        "The cross-validated accuracy and test set accuracy are similar, thus the model does not seem to be overfitting. The accuracy of the tuned random forest is a lot higher than the untuned random forest."
      ]
    },
    {
      "cell_type": "code",
      "source": [
        "perm = PermutationImportance(tuned_rnd, random_state=1).fit(X_test, y_test)\n",
        "eli5.show_weights(perm, feature_names = df_transformed.columns.tolist())"
      ],
      "metadata": {
        "id": "cWZUrvTWZ2B4"
      },
      "execution_count": null,
      "outputs": []
    },
    {
      "cell_type": "markdown",
      "metadata": {
        "id": "wnf8B5_OgUoH"
      },
      "source": [
        "# Part 5: Ensembling"
      ]
    },
    {
      "cell_type": "markdown",
      "metadata": {
        "id": "7cHZAy56lnjT"
      },
      "source": [
        "## Voting\n",
        "\n",
        "The voting ensemble algorithm will look at how all the earlier created classification algorithms predicted classes for each instance, and classify instances according to the class the majority of models assigned it to.\n",
        "For the randomforest and rbf svc, the tuned models will be used."
      ]
    },
    {
      "cell_type": "code",
      "execution_count": null,
      "metadata": {
        "id": "zSeMTzA8gXth"
      },
      "outputs": [],
      "source": [
        "voting_clf = VotingClassifier(\n",
        "    estimators=[('knn', knn), ('logistic', logistic), ('decisiontree', decisiontree), ('rf', tuned_rnd), ('svc_rbf', tuned_rbf)],\n",
        "    voting='soft')\n",
        "cv_scores_voted = cross_val_score(voting_clf, X_train, y_train, cv=10,\n",
        "                       n_jobs=-1)\n",
        "\n",
        "print(f'cross-validated mean accuracy voting classifier: {cv_scores_voted.mean():.3f}')"
      ]
    },
    {
      "cell_type": "code",
      "execution_count": null,
      "metadata": {
        "id": "5beRhiKZQGrd"
      },
      "outputs": [],
      "source": [
        "voting_fitted = voting_clf.fit(X_train, y_train)\n",
        "\n",
        "voting_accuracy = voting_fitted.score(X_test, y_test)\n",
        "print(f\"voting accuracy test set: {voting_accuracy:.3f}\")"
      ]
    },
    {
      "cell_type": "markdown",
      "metadata": {
        "id": "9dN0Z6rL0VNy"
      },
      "source": [
        "With the voting classifier we actually do not reach a higher accuracy on the test data than the tuned random forest. Thus, only running a random forest should be preferred.\n",
        "\n",
        "Below we will try out the bagging ensemble on the rbf svm, to see if we can still reach a higher accuracy with a single model."
      ]
    },
    {
      "cell_type": "markdown",
      "metadata": {
        "id": "rLu7QMKrlpML"
      },
      "source": [
        "## Bagging\n",
        "We will now follow a different ensemble approach: bagging. We will take the tuned best single model: the SVC with rbf kernel, and run the same model on different random subsets of the training set. We choose for the bagging algorithm, thus bootstrapping subsets (sampling with replacement) and allowing for some instances to be included more often than others since with this we can use out-of-bag evaluation on instances that weren't sampled, as an alternative for cross-validation."
      ]
    },
    {
      "cell_type": "code",
      "execution_count": null,
      "metadata": {
        "id": "3GlNoeXRfa8p"
      },
      "outputs": [],
      "source": [
        "bag_rbf = BaggingClassifier(base_estimator=tuned_rbf, max_samples=0.8, bootstrap=True, n_jobs=-1, oob_score=True, random_state=2)\n",
        "bag_rbf.fit(X_train, y_train)\n",
        "y_pred_bag = bag_rbf.predict(X_test)\n",
        "oob_accuracy = bag_rbf.oob_score_\n",
        "print(\"Oob accuracy: {:.3f}\".format(oob_accuracy))"
      ]
    },
    {
      "cell_type": "code",
      "source": [
        "test_accuracy = accuracy_score(y_test, y_pred_bag)\n",
        "print('Test set accuracy: {:.3f}'.format(test_accuracy))"
      ],
      "metadata": {
        "id": "y3zMu9NXHpGn"
      },
      "execution_count": null,
      "outputs": []
    },
    {
      "cell_type": "markdown",
      "metadata": {
        "id": "gPWnxKK8MPNV"
      },
      "source": [
        "After bagging the tuned rbf model, accuracy on the test set increases from 0.812 to 0.819, thus by 0.5%.\n",
        "However, the voting classifier is still slighlty better with 0.824."
      ]
    },
    {
      "cell_type": "markdown",
      "metadata": {
        "id": "soaT6F621-0g"
      },
      "source": [
        "# Conclusion\n",
        "\n",
        "The goal of this project was to predict as good as possible which customers would take a travel insurance and which not.\n",
        "We tried out the following classification algorithms:\n",
        "\n",
        "- Knn\n",
        "- Support vector machine\n",
        "- Logistic regression\n",
        "- Decision trees\n",
        "- Randomforest\n",
        "\n",
        "After cross-validating, the svm's and randomforest turned out to be most accurate and highest in AUC. We tuned those models and then tried out several ensemble methods:\n",
        "\n",
        "- Voting: soft\n",
        "- Bagging of the svc with rbf kernel: with bootstrap and out-of-bag evalution\n",
        "\n",
        "The voting ensemble reached a higher accuracy on of the models did alone.\n",
        "Also by bagging the rbf svm accuracy, it did not exceed that of the voting classifier.\n",
        "Thus, the support vector machine with rbf kernel was our most accurate single model, while the voting classifier was most accurate overall.\n",
        "\n",
        "In conclusion, we are able to predict with 82% accuracy whether a potential new customer would take a travel insurance, based on the features in our dataset.\n",
        "\n",
        "Limitations:\n",
        "As our training data has a very narrow age range, we need to take into account that when using the model to predict new cases and feed in data of all ages, we have no idea how it will perform as it was not trained for it.\n",
        "Similarly, if we feed in new data of an income range that's very differing from the income range it was trained on, the same applies, we have no idea how useful the predictions are going to be."
      ]
    },
    {
      "cell_type": "markdown",
      "source": [
        "# Future improvements\n",
        "\n",
        "* Hyperparameter tuning needs to be done in a different way, since it took very long to tune the randomforest, and both models did not improve much, the svc neither.\n",
        "* A k-means clustering algorithm could be used in an attempt to identify segments inside the group of insured people. In case any separate segments could be identified, profiles could be drawn to customize marketing efforts to specific groups.\n",
        "* To find out which features have a significant impact in predicting the target, we would need to have the feature coefficient values. However, with a non-linear support vector classifier more advanced analysis will be needed to uncover this.  \n",
        "\n"
      ],
      "metadata": {
        "id": "Rtr3rhkyhjpg"
      }
    }
  ],
  "metadata": {
    "colab": {
      "toc_visible": true,
      "provenance": [],
      "collapsed_sections": [
        "1kAO3qPRD9xC",
        "Ylbjtd3WC1d6"
      ],
      "mount_file_id": "13zUVgmAWckCT0eVGn3E4C1p6nM0OHhJR",
      "authorship_tag": "ABX9TyNUHNRuJ4LGvpM3rZNpbG6p"
    },
    "kernelspec": {
      "display_name": "Python 3",
      "name": "python3"
    },
    "language_info": {
      "name": "python"
    }
  },
  "nbformat": 4,
  "nbformat_minor": 0
}